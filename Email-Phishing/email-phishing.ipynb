{
 "cells": [
  {
   "cell_type": "code",
   "execution_count": 1,
   "id": "e519b41c",
   "metadata": {
    "_cell_guid": "b1076dfc-b9ad-4769-8c92-a6c4dae69d19",
    "_uuid": "8f2839f25d086af736a60e9eeb907d3b93b6e0e5",
    "execution": {
     "iopub.execute_input": "2025-05-28T08:44:21.236135Z",
     "iopub.status.busy": "2025-05-28T08:44:21.235824Z",
     "iopub.status.idle": "2025-05-28T08:44:23.490384Z",
     "shell.execute_reply": "2025-05-28T08:44:23.489094Z"
    },
    "papermill": {
     "duration": 2.26216,
     "end_time": "2025-05-28T08:44:23.491903",
     "exception": false,
     "start_time": "2025-05-28T08:44:21.229743",
     "status": "completed"
    },
    "tags": []
   },
   "outputs": [
    {
     "name": "stdout",
     "output_type": "stream",
     "text": [
      "/kaggle/input/email-phishing-dataset/email_phishing_data.csv\n"
     ]
    }
   ],
   "source": [
    "# This Python 3 environment comes with many helpful analytics libraries installed\n",
    "# It is defined by the kaggle/python Docker image: https://github.com/kaggle/docker-python\n",
    "# For example, here's several helpful packages to load\n",
    "\n",
    "import numpy as np # linear algebra\n",
    "import pandas as pd # data processing, CSV file I/O (e.g. pd.read_csv)\n",
    "\n",
    "# Input data files are available in the read-only \"../input/\" directory\n",
    "# For example, running this (by clicking run or pressing Shift+Enter) will list all files under the input directory\n",
    "\n",
    "import os\n",
    "for dirname, _, filenames in os.walk('/kaggle/input'):\n",
    "    for filename in filenames:\n",
    "        print(os.path.join(dirname, filename))\n",
    "\n",
    "# You can write up to 20GB to the current directory (/kaggle/working/) that gets preserved as output when you create a version using \"Save & Run All\" \n",
    "# You can also write temporary files to /kaggle/temp/, but they won't be saved outside of the current session"
   ]
  },
  {
   "cell_type": "code",
   "execution_count": 2,
   "id": "cebf30d0",
   "metadata": {
    "execution": {
     "iopub.execute_input": "2025-05-28T08:44:23.501157Z",
     "iopub.status.busy": "2025-05-28T08:44:23.500661Z",
     "iopub.status.idle": "2025-05-28T08:44:24.099370Z",
     "shell.execute_reply": "2025-05-28T08:44:24.098452Z"
    },
    "papermill": {
     "duration": 0.605109,
     "end_time": "2025-05-28T08:44:24.101116",
     "exception": false,
     "start_time": "2025-05-28T08:44:23.496007",
     "status": "completed"
    },
    "tags": []
   },
   "outputs": [
    {
     "data": {
      "text/html": [
       "<div>\n",
       "<style scoped>\n",
       "    .dataframe tbody tr th:only-of-type {\n",
       "        vertical-align: middle;\n",
       "    }\n",
       "\n",
       "    .dataframe tbody tr th {\n",
       "        vertical-align: top;\n",
       "    }\n",
       "\n",
       "    .dataframe thead th {\n",
       "        text-align: right;\n",
       "    }\n",
       "</style>\n",
       "<table border=\"1\" class=\"dataframe\">\n",
       "  <thead>\n",
       "    <tr style=\"text-align: right;\">\n",
       "      <th></th>\n",
       "      <th>num_words</th>\n",
       "      <th>num_unique_words</th>\n",
       "      <th>num_stopwords</th>\n",
       "      <th>num_links</th>\n",
       "      <th>num_unique_domains</th>\n",
       "      <th>num_email_addresses</th>\n",
       "      <th>num_spelling_errors</th>\n",
       "      <th>num_urgent_keywords</th>\n",
       "      <th>label</th>\n",
       "    </tr>\n",
       "  </thead>\n",
       "  <tbody>\n",
       "    <tr>\n",
       "      <th>246985</th>\n",
       "      <td>140</td>\n",
       "      <td>93</td>\n",
       "      <td>52</td>\n",
       "      <td>0</td>\n",
       "      <td>0</td>\n",
       "      <td>0</td>\n",
       "      <td>4</td>\n",
       "      <td>0</td>\n",
       "      <td>0</td>\n",
       "    </tr>\n",
       "    <tr>\n",
       "      <th>270395</th>\n",
       "      <td>31</td>\n",
       "      <td>21</td>\n",
       "      <td>5</td>\n",
       "      <td>0</td>\n",
       "      <td>0</td>\n",
       "      <td>3</td>\n",
       "      <td>12</td>\n",
       "      <td>0</td>\n",
       "      <td>0</td>\n",
       "    </tr>\n",
       "    <tr>\n",
       "      <th>430783</th>\n",
       "      <td>191</td>\n",
       "      <td>117</td>\n",
       "      <td>74</td>\n",
       "      <td>0</td>\n",
       "      <td>0</td>\n",
       "      <td>0</td>\n",
       "      <td>3</td>\n",
       "      <td>0</td>\n",
       "      <td>0</td>\n",
       "    </tr>\n",
       "    <tr>\n",
       "      <th>17002</th>\n",
       "      <td>60</td>\n",
       "      <td>41</td>\n",
       "      <td>13</td>\n",
       "      <td>0</td>\n",
       "      <td>0</td>\n",
       "      <td>3</td>\n",
       "      <td>12</td>\n",
       "      <td>0</td>\n",
       "      <td>0</td>\n",
       "    </tr>\n",
       "    <tr>\n",
       "      <th>493387</th>\n",
       "      <td>111</td>\n",
       "      <td>78</td>\n",
       "      <td>38</td>\n",
       "      <td>0</td>\n",
       "      <td>0</td>\n",
       "      <td>4</td>\n",
       "      <td>24</td>\n",
       "      <td>0</td>\n",
       "      <td>0</td>\n",
       "    </tr>\n",
       "  </tbody>\n",
       "</table>\n",
       "</div>"
      ],
      "text/plain": [
       "        num_words  num_unique_words  num_stopwords  num_links  \\\n",
       "246985        140                93             52          0   \n",
       "270395         31                21              5          0   \n",
       "430783        191               117             74          0   \n",
       "17002          60                41             13          0   \n",
       "493387        111                78             38          0   \n",
       "\n",
       "        num_unique_domains  num_email_addresses  num_spelling_errors  \\\n",
       "246985                   0                    0                    4   \n",
       "270395                   0                    3                   12   \n",
       "430783                   0                    0                    3   \n",
       "17002                    0                    3                   12   \n",
       "493387                   0                    4                   24   \n",
       "\n",
       "        num_urgent_keywords  label  \n",
       "246985                    0      0  \n",
       "270395                    0      0  \n",
       "430783                    0      0  \n",
       "17002                     0      0  \n",
       "493387                    0      0  "
      ]
     },
     "execution_count": 2,
     "metadata": {},
     "output_type": "execute_result"
    }
   ],
   "source": [
    "df = pd.read_csv(\"/kaggle/input/email-phishing-dataset/email_phishing_data.csv\")\n",
    "df.sample(5)"
   ]
  },
  {
   "cell_type": "code",
   "execution_count": 3,
   "id": "91cb9b9d",
   "metadata": {
    "execution": {
     "iopub.execute_input": "2025-05-28T08:44:24.111320Z",
     "iopub.status.busy": "2025-05-28T08:44:24.110950Z",
     "iopub.status.idle": "2025-05-28T08:44:24.118248Z",
     "shell.execute_reply": "2025-05-28T08:44:24.117263Z"
    },
    "papermill": {
     "duration": 0.014006,
     "end_time": "2025-05-28T08:44:24.119734",
     "exception": false,
     "start_time": "2025-05-28T08:44:24.105728",
     "status": "completed"
    },
    "tags": []
   },
   "outputs": [
    {
     "data": {
      "text/plain": [
       "num_words              int64\n",
       "num_unique_words       int64\n",
       "num_stopwords          int64\n",
       "num_links              int64\n",
       "num_unique_domains     int64\n",
       "num_email_addresses    int64\n",
       "num_spelling_errors    int64\n",
       "num_urgent_keywords    int64\n",
       "label                  int64\n",
       "dtype: object"
      ]
     },
     "execution_count": 3,
     "metadata": {},
     "output_type": "execute_result"
    }
   ],
   "source": [
    "df.dtypes"
   ]
  },
  {
   "cell_type": "code",
   "execution_count": 4,
   "id": "ee985203",
   "metadata": {
    "execution": {
     "iopub.execute_input": "2025-05-28T08:44:24.129127Z",
     "iopub.status.busy": "2025-05-28T08:44:24.128805Z",
     "iopub.status.idle": "2025-05-28T08:44:24.315564Z",
     "shell.execute_reply": "2025-05-28T08:44:24.314241Z"
    },
    "papermill": {
     "duration": 0.193571,
     "end_time": "2025-05-28T08:44:24.317409",
     "exception": false,
     "start_time": "2025-05-28T08:44:24.123838",
     "status": "completed"
    },
    "tags": []
   },
   "outputs": [
    {
     "data": {
      "text/html": [
       "<div>\n",
       "<style scoped>\n",
       "    .dataframe tbody tr th:only-of-type {\n",
       "        vertical-align: middle;\n",
       "    }\n",
       "\n",
       "    .dataframe tbody tr th {\n",
       "        vertical-align: top;\n",
       "    }\n",
       "\n",
       "    .dataframe thead th {\n",
       "        text-align: right;\n",
       "    }\n",
       "</style>\n",
       "<table border=\"1\" class=\"dataframe\">\n",
       "  <thead>\n",
       "    <tr style=\"text-align: right;\">\n",
       "      <th></th>\n",
       "      <th>num_words</th>\n",
       "      <th>num_unique_words</th>\n",
       "      <th>num_stopwords</th>\n",
       "      <th>num_links</th>\n",
       "      <th>num_unique_domains</th>\n",
       "      <th>num_email_addresses</th>\n",
       "      <th>num_spelling_errors</th>\n",
       "      <th>num_urgent_keywords</th>\n",
       "      <th>label</th>\n",
       "    </tr>\n",
       "  </thead>\n",
       "  <tbody>\n",
       "    <tr>\n",
       "      <th>count</th>\n",
       "      <td>5.248460e+05</td>\n",
       "      <td>524846.000000</td>\n",
       "      <td>524846.000000</td>\n",
       "      <td>524846.000000</td>\n",
       "      <td>524846.000000</td>\n",
       "      <td>524846.000000</td>\n",
       "      <td>524846.000000</td>\n",
       "      <td>524846.000000</td>\n",
       "      <td>524846.000000</td>\n",
       "    </tr>\n",
       "    <tr>\n",
       "      <th>mean</th>\n",
       "      <td>2.762280e+02</td>\n",
       "      <td>123.012167</td>\n",
       "      <td>80.045465</td>\n",
       "      <td>0.895588</td>\n",
       "      <td>0.347767</td>\n",
       "      <td>2.114897</td>\n",
       "      <td>24.694731</td>\n",
       "      <td>0.245301</td>\n",
       "      <td>0.013240</td>\n",
       "    </tr>\n",
       "    <tr>\n",
       "      <th>std</th>\n",
       "      <td>3.335457e+03</td>\n",
       "      <td>201.626478</td>\n",
       "      <td>1023.330380</td>\n",
       "      <td>5.603001</td>\n",
       "      <td>1.774209</td>\n",
       "      <td>13.592682</td>\n",
       "      <td>311.312358</td>\n",
       "      <td>0.559320</td>\n",
       "      <td>0.114301</td>\n",
       "    </tr>\n",
       "    <tr>\n",
       "      <th>min</th>\n",
       "      <td>0.000000e+00</td>\n",
       "      <td>0.000000</td>\n",
       "      <td>0.000000</td>\n",
       "      <td>0.000000</td>\n",
       "      <td>0.000000</td>\n",
       "      <td>0.000000</td>\n",
       "      <td>0.000000</td>\n",
       "      <td>0.000000</td>\n",
       "      <td>0.000000</td>\n",
       "    </tr>\n",
       "    <tr>\n",
       "      <th>25%</th>\n",
       "      <td>4.700000e+01</td>\n",
       "      <td>38.000000</td>\n",
       "      <td>12.000000</td>\n",
       "      <td>0.000000</td>\n",
       "      <td>0.000000</td>\n",
       "      <td>0.000000</td>\n",
       "      <td>2.000000</td>\n",
       "      <td>0.000000</td>\n",
       "      <td>0.000000</td>\n",
       "    </tr>\n",
       "    <tr>\n",
       "      <th>50%</th>\n",
       "      <td>1.200000e+02</td>\n",
       "      <td>79.000000</td>\n",
       "      <td>34.000000</td>\n",
       "      <td>0.000000</td>\n",
       "      <td>0.000000</td>\n",
       "      <td>0.000000</td>\n",
       "      <td>8.000000</td>\n",
       "      <td>0.000000</td>\n",
       "      <td>0.000000</td>\n",
       "    </tr>\n",
       "    <tr>\n",
       "      <th>75%</th>\n",
       "      <td>2.690000e+02</td>\n",
       "      <td>145.000000</td>\n",
       "      <td>79.000000</td>\n",
       "      <td>0.000000</td>\n",
       "      <td>0.000000</td>\n",
       "      <td>1.000000</td>\n",
       "      <td>22.000000</td>\n",
       "      <td>0.000000</td>\n",
       "      <td>0.000000</td>\n",
       "    </tr>\n",
       "    <tr>\n",
       "      <th>max</th>\n",
       "      <td>2.339682e+06</td>\n",
       "      <td>51251.000000</td>\n",
       "      <td>720411.000000</td>\n",
       "      <td>824.000000</td>\n",
       "      <td>524.000000</td>\n",
       "      <td>1150.000000</td>\n",
       "      <td>190104.000000</td>\n",
       "      <td>7.000000</td>\n",
       "      <td>1.000000</td>\n",
       "    </tr>\n",
       "  </tbody>\n",
       "</table>\n",
       "</div>"
      ],
      "text/plain": [
       "          num_words  num_unique_words  num_stopwords      num_links  \\\n",
       "count  5.248460e+05     524846.000000  524846.000000  524846.000000   \n",
       "mean   2.762280e+02        123.012167      80.045465       0.895588   \n",
       "std    3.335457e+03        201.626478    1023.330380       5.603001   \n",
       "min    0.000000e+00          0.000000       0.000000       0.000000   \n",
       "25%    4.700000e+01         38.000000      12.000000       0.000000   \n",
       "50%    1.200000e+02         79.000000      34.000000       0.000000   \n",
       "75%    2.690000e+02        145.000000      79.000000       0.000000   \n",
       "max    2.339682e+06      51251.000000  720411.000000     824.000000   \n",
       "\n",
       "       num_unique_domains  num_email_addresses  num_spelling_errors  \\\n",
       "count       524846.000000        524846.000000        524846.000000   \n",
       "mean             0.347767             2.114897            24.694731   \n",
       "std              1.774209            13.592682           311.312358   \n",
       "min              0.000000             0.000000             0.000000   \n",
       "25%              0.000000             0.000000             2.000000   \n",
       "50%              0.000000             0.000000             8.000000   \n",
       "75%              0.000000             1.000000            22.000000   \n",
       "max            524.000000          1150.000000        190104.000000   \n",
       "\n",
       "       num_urgent_keywords          label  \n",
       "count        524846.000000  524846.000000  \n",
       "mean              0.245301       0.013240  \n",
       "std               0.559320       0.114301  \n",
       "min               0.000000       0.000000  \n",
       "25%               0.000000       0.000000  \n",
       "50%               0.000000       0.000000  \n",
       "75%               0.000000       0.000000  \n",
       "max               7.000000       1.000000  "
      ]
     },
     "execution_count": 4,
     "metadata": {},
     "output_type": "execute_result"
    }
   ],
   "source": [
    "df.describe()"
   ]
  },
  {
   "cell_type": "markdown",
   "id": "d09439e6",
   "metadata": {
    "papermill": {
     "duration": 0.006478,
     "end_time": "2025-05-28T08:44:24.328910",
     "exception": false,
     "start_time": "2025-05-28T08:44:24.322432",
     "status": "completed"
    },
    "tags": []
   },
   "source": [
    "Insights you can derive from the above stats summary:\n",
    "\n",
    "\n",
    "**1. num_words:**\n",
    "\n",
    "* Mean: 276.23 (2.762280e+02) words per email.\n",
    "* Std Dev: 3335.46, which is very high relative to the mean. This suggests a wide spread in the number of words, with some emails being extremely long.\n",
    "* Max: 2,339,682 words in one email which indicates that there is potential outliers or very large attachments.\n",
    "* Quartiles: 75% of emails have 269 words or less which means that the mean is skewed by a very long emails.\n",
    "\n",
    "**and more like that...**"
   ]
  },
  {
   "cell_type": "code",
   "execution_count": 5,
   "id": "6bdba046",
   "metadata": {
    "execution": {
     "iopub.execute_input": "2025-05-28T08:44:24.339079Z",
     "iopub.status.busy": "2025-05-28T08:44:24.338659Z",
     "iopub.status.idle": "2025-05-28T08:44:24.375351Z",
     "shell.execute_reply": "2025-05-28T08:44:24.373843Z"
    },
    "papermill": {
     "duration": 0.045087,
     "end_time": "2025-05-28T08:44:24.378479",
     "exception": false,
     "start_time": "2025-05-28T08:44:24.333392",
     "status": "completed"
    },
    "tags": []
   },
   "outputs": [
    {
     "name": "stdout",
     "output_type": "stream",
     "text": [
      "<class 'pandas.core.frame.DataFrame'>\n",
      "RangeIndex: 524846 entries, 0 to 524845\n",
      "Data columns (total 9 columns):\n",
      " #   Column               Non-Null Count   Dtype\n",
      "---  ------               --------------   -----\n",
      " 0   num_words            524846 non-null  int64\n",
      " 1   num_unique_words     524846 non-null  int64\n",
      " 2   num_stopwords        524846 non-null  int64\n",
      " 3   num_links            524846 non-null  int64\n",
      " 4   num_unique_domains   524846 non-null  int64\n",
      " 5   num_email_addresses  524846 non-null  int64\n",
      " 6   num_spelling_errors  524846 non-null  int64\n",
      " 7   num_urgent_keywords  524846 non-null  int64\n",
      " 8   label                524846 non-null  int64\n",
      "dtypes: int64(9)\n",
      "memory usage: 36.0 MB\n"
     ]
    }
   ],
   "source": [
    "df.info()"
   ]
  },
  {
   "cell_type": "code",
   "execution_count": 6,
   "id": "9e9d402c",
   "metadata": {
    "execution": {
     "iopub.execute_input": "2025-05-28T08:44:24.389571Z",
     "iopub.status.busy": "2025-05-28T08:44:24.389290Z",
     "iopub.status.idle": "2025-05-28T08:44:24.395702Z",
     "shell.execute_reply": "2025-05-28T08:44:24.394507Z"
    },
    "papermill": {
     "duration": 0.013928,
     "end_time": "2025-05-28T08:44:24.397341",
     "exception": false,
     "start_time": "2025-05-28T08:44:24.383413",
     "status": "completed"
    },
    "tags": []
   },
   "outputs": [
    {
     "data": {
      "text/plain": [
       "(524846, 9)"
      ]
     },
     "execution_count": 6,
     "metadata": {},
     "output_type": "execute_result"
    }
   ],
   "source": [
    "df.shape"
   ]
  },
  {
   "cell_type": "code",
   "execution_count": 7,
   "id": "15cc1de1",
   "metadata": {
    "execution": {
     "iopub.execute_input": "2025-05-28T08:44:24.407891Z",
     "iopub.status.busy": "2025-05-28T08:44:24.407054Z",
     "iopub.status.idle": "2025-05-28T08:44:24.578306Z",
     "shell.execute_reply": "2025-05-28T08:44:24.577277Z"
    },
    "papermill": {
     "duration": 0.178247,
     "end_time": "2025-05-28T08:44:24.580101",
     "exception": false,
     "start_time": "2025-05-28T08:44:24.401854",
     "status": "completed"
    },
    "tags": []
   },
   "outputs": [
    {
     "data": {
      "text/html": [
       "<div>\n",
       "<style scoped>\n",
       "    .dataframe tbody tr th:only-of-type {\n",
       "        vertical-align: middle;\n",
       "    }\n",
       "\n",
       "    .dataframe tbody tr th {\n",
       "        vertical-align: top;\n",
       "    }\n",
       "\n",
       "    .dataframe thead th {\n",
       "        text-align: right;\n",
       "    }\n",
       "</style>\n",
       "<table border=\"1\" class=\"dataframe\">\n",
       "  <thead>\n",
       "    <tr style=\"text-align: right;\">\n",
       "      <th></th>\n",
       "      <th>num_words</th>\n",
       "      <th>num_unique_words</th>\n",
       "      <th>num_stopwords</th>\n",
       "      <th>num_links</th>\n",
       "      <th>num_unique_domains</th>\n",
       "      <th>num_email_addresses</th>\n",
       "      <th>num_spelling_errors</th>\n",
       "      <th>num_urgent_keywords</th>\n",
       "      <th>label</th>\n",
       "    </tr>\n",
       "  </thead>\n",
       "  <tbody>\n",
       "    <tr>\n",
       "      <th>count</th>\n",
       "      <td>5.248460e+05</td>\n",
       "      <td>524846.000000</td>\n",
       "      <td>524846.000000</td>\n",
       "      <td>524846.000000</td>\n",
       "      <td>524846.000000</td>\n",
       "      <td>524846.000000</td>\n",
       "      <td>524846.000000</td>\n",
       "      <td>524846.000000</td>\n",
       "      <td>524846.000000</td>\n",
       "    </tr>\n",
       "    <tr>\n",
       "      <th>mean</th>\n",
       "      <td>2.762280e+02</td>\n",
       "      <td>123.012167</td>\n",
       "      <td>80.045465</td>\n",
       "      <td>0.895588</td>\n",
       "      <td>0.347767</td>\n",
       "      <td>2.114897</td>\n",
       "      <td>24.694731</td>\n",
       "      <td>0.245301</td>\n",
       "      <td>0.013240</td>\n",
       "    </tr>\n",
       "    <tr>\n",
       "      <th>std</th>\n",
       "      <td>3.335457e+03</td>\n",
       "      <td>201.626478</td>\n",
       "      <td>1023.330380</td>\n",
       "      <td>5.603001</td>\n",
       "      <td>1.774209</td>\n",
       "      <td>13.592682</td>\n",
       "      <td>311.312358</td>\n",
       "      <td>0.559320</td>\n",
       "      <td>0.114301</td>\n",
       "    </tr>\n",
       "    <tr>\n",
       "      <th>min</th>\n",
       "      <td>0.000000e+00</td>\n",
       "      <td>0.000000</td>\n",
       "      <td>0.000000</td>\n",
       "      <td>0.000000</td>\n",
       "      <td>0.000000</td>\n",
       "      <td>0.000000</td>\n",
       "      <td>0.000000</td>\n",
       "      <td>0.000000</td>\n",
       "      <td>0.000000</td>\n",
       "    </tr>\n",
       "    <tr>\n",
       "      <th>25%</th>\n",
       "      <td>4.700000e+01</td>\n",
       "      <td>38.000000</td>\n",
       "      <td>12.000000</td>\n",
       "      <td>0.000000</td>\n",
       "      <td>0.000000</td>\n",
       "      <td>0.000000</td>\n",
       "      <td>2.000000</td>\n",
       "      <td>0.000000</td>\n",
       "      <td>0.000000</td>\n",
       "    </tr>\n",
       "    <tr>\n",
       "      <th>50%</th>\n",
       "      <td>1.200000e+02</td>\n",
       "      <td>79.000000</td>\n",
       "      <td>34.000000</td>\n",
       "      <td>0.000000</td>\n",
       "      <td>0.000000</td>\n",
       "      <td>0.000000</td>\n",
       "      <td>8.000000</td>\n",
       "      <td>0.000000</td>\n",
       "      <td>0.000000</td>\n",
       "    </tr>\n",
       "    <tr>\n",
       "      <th>75%</th>\n",
       "      <td>2.690000e+02</td>\n",
       "      <td>145.000000</td>\n",
       "      <td>79.000000</td>\n",
       "      <td>0.000000</td>\n",
       "      <td>0.000000</td>\n",
       "      <td>1.000000</td>\n",
       "      <td>22.000000</td>\n",
       "      <td>0.000000</td>\n",
       "      <td>0.000000</td>\n",
       "    </tr>\n",
       "    <tr>\n",
       "      <th>max</th>\n",
       "      <td>2.339682e+06</td>\n",
       "      <td>51251.000000</td>\n",
       "      <td>720411.000000</td>\n",
       "      <td>824.000000</td>\n",
       "      <td>524.000000</td>\n",
       "      <td>1150.000000</td>\n",
       "      <td>190104.000000</td>\n",
       "      <td>7.000000</td>\n",
       "      <td>1.000000</td>\n",
       "    </tr>\n",
       "  </tbody>\n",
       "</table>\n",
       "</div>"
      ],
      "text/plain": [
       "          num_words  num_unique_words  num_stopwords      num_links  \\\n",
       "count  5.248460e+05     524846.000000  524846.000000  524846.000000   \n",
       "mean   2.762280e+02        123.012167      80.045465       0.895588   \n",
       "std    3.335457e+03        201.626478    1023.330380       5.603001   \n",
       "min    0.000000e+00          0.000000       0.000000       0.000000   \n",
       "25%    4.700000e+01         38.000000      12.000000       0.000000   \n",
       "50%    1.200000e+02         79.000000      34.000000       0.000000   \n",
       "75%    2.690000e+02        145.000000      79.000000       0.000000   \n",
       "max    2.339682e+06      51251.000000  720411.000000     824.000000   \n",
       "\n",
       "       num_unique_domains  num_email_addresses  num_spelling_errors  \\\n",
       "count       524846.000000        524846.000000        524846.000000   \n",
       "mean             0.347767             2.114897            24.694731   \n",
       "std              1.774209            13.592682           311.312358   \n",
       "min              0.000000             0.000000             0.000000   \n",
       "25%              0.000000             0.000000             2.000000   \n",
       "50%              0.000000             0.000000             8.000000   \n",
       "75%              0.000000             1.000000            22.000000   \n",
       "max            524.000000          1150.000000        190104.000000   \n",
       "\n",
       "       num_urgent_keywords          label  \n",
       "count        524846.000000  524846.000000  \n",
       "mean              0.245301       0.013240  \n",
       "std               0.559320       0.114301  \n",
       "min               0.000000       0.000000  \n",
       "25%               0.000000       0.000000  \n",
       "50%               0.000000       0.000000  \n",
       "75%               0.000000       0.000000  \n",
       "max               7.000000       1.000000  "
      ]
     },
     "execution_count": 7,
     "metadata": {},
     "output_type": "execute_result"
    }
   ],
   "source": [
    "df.describe()"
   ]
  },
  {
   "cell_type": "markdown",
   "id": "d2e4af3a",
   "metadata": {
    "papermill": {
     "duration": 0.004267,
     "end_time": "2025-05-28T08:44:24.589439",
     "exception": false,
     "start_time": "2025-05-28T08:44:24.585172",
     "status": "completed"
    },
    "tags": []
   },
   "source": [
    "**Note:**\n",
    "Class Imbalance:\n",
    "\n",
    "The label() col shows a significant class imbalance, i.e; maximum emails are labeled as 'safe' whereas very less as labeled as 'phishing'. There may be chances, that if is not handled then the model would perform very poor at identifying the crucial 'phishing' emails (minority class), which can lead to a number of False Negatives."
   ]
  },
  {
   "cell_type": "markdown",
   "id": "833a37e6",
   "metadata": {
    "papermill": {
     "duration": 0.004354,
     "end_time": "2025-05-28T08:44:24.598764",
     "exception": false,
     "start_time": "2025-05-28T08:44:24.594410",
     "status": "completed"
    },
    "tags": []
   },
   "source": [
    "## Using Logistic Regression"
   ]
  },
  {
   "cell_type": "code",
   "execution_count": 8,
   "id": "08234a3d",
   "metadata": {
    "execution": {
     "iopub.execute_input": "2025-05-28T08:44:24.609990Z",
     "iopub.status.busy": "2025-05-28T08:44:24.609708Z",
     "iopub.status.idle": "2025-05-28T08:44:30.226265Z",
     "shell.execute_reply": "2025-05-28T08:44:30.225173Z"
    },
    "papermill": {
     "duration": 5.624011,
     "end_time": "2025-05-28T08:44:30.228011",
     "exception": false,
     "start_time": "2025-05-28T08:44:24.604000",
     "status": "completed"
    },
    "tags": []
   },
   "outputs": [],
   "source": [
    "# solving class imbalance using class_weight parameter, which is preferred for minimal preprocessing\n",
    "\n",
    "from sklearn.model_selection import train_test_split\n",
    "from sklearn.linear_model import LogisticRegression      # LogisticRegression for baseline, good choice for this type of numerical, tabular data\n",
    "from sklearn.metrics import (\n",
    "    accuracy_score, precision_score, recall_score, f1_score,\n",
    "    roc_auc_score, confusion_matrix, classification_report\n",
    ")\n",
    "\n",
    "# train-test split\n",
    "X = df.drop('label', axis=1)\n",
    "y = df['label']\n",
    "X_train, X_test, y_train, y_test = train_test_split(X, y, test_size=0.2, random_state=42, stratify=y)\n",
    "\n",
    "# Training Logistic Regression\n",
    "lr = LogisticRegression(random_state=42, solver='liblinear', class_weight='balanced', max_iter=1000)       # class_weight is balanced, it will automatically calculates weights inversely proportional to class frequencies, giving more importance to the minority class\n",
    "lr.fit(X_train, y_train)\n",
    "y_pred = lr.predict(X_test)"
   ]
  },
  {
   "cell_type": "code",
   "execution_count": 9,
   "id": "a245f4ce",
   "metadata": {
    "execution": {
     "iopub.execute_input": "2025-05-28T08:44:30.242100Z",
     "iopub.status.busy": "2025-05-28T08:44:30.241607Z",
     "iopub.status.idle": "2025-05-28T08:44:30.400172Z",
     "shell.execute_reply": "2025-05-28T08:44:30.398637Z"
    },
    "papermill": {
     "duration": 0.167805,
     "end_time": "2025-05-28T08:44:30.401919",
     "exception": false,
     "start_time": "2025-05-28T08:44:30.234114",
     "status": "completed"
    },
    "tags": []
   },
   "outputs": [
    {
     "name": "stdout",
     "output_type": "stream",
     "text": [
      "------------- Model Performance -------------\n",
      "Accuracy:  0.5466\n",
      "Precision (Phishing):  0.0217\n",
      "Recall (Phishing):  0.7547\n",
      "F1-Score (Phishing):  0.0422\n",
      "ROC AUC Score: 0.649229421251568\n"
     ]
    }
   ],
   "source": [
    "y_pred_proba = lr.predict_proba(X_test)[:, 1]  # probability for the positive class (1)\n",
    "\n",
    "print(\"------------- Model Performance -------------\")\n",
    "print(f\"Accuracy: {accuracy_score(y_test, y_pred): .4f}\")\n",
    "print(f\"Precision (Phishing): {precision_score(y_test, y_pred, pos_label=1): .4f}\")\n",
    "print(f\"Recall (Phishing): {recall_score(y_test, y_pred, pos_label=1): .4f}\")\n",
    "print(f\"F1-Score (Phishing): {f1_score(y_test, y_pred, pos_label=1): .4f}\")\n",
    "print(f\"ROC AUC Score: {roc_auc_score(y_test, y_pred)}\")"
   ]
  },
  {
   "cell_type": "code",
   "execution_count": 10,
   "id": "4712f083",
   "metadata": {
    "execution": {
     "iopub.execute_input": "2025-05-28T08:44:30.414809Z",
     "iopub.status.busy": "2025-05-28T08:44:30.414466Z",
     "iopub.status.idle": "2025-05-28T08:44:31.294382Z",
     "shell.execute_reply": "2025-05-28T08:44:31.293264Z"
    },
    "papermill": {
     "duration": 0.888083,
     "end_time": "2025-05-28T08:44:31.295929",
     "exception": false,
     "start_time": "2025-05-28T08:44:30.407846",
     "status": "completed"
    },
    "tags": []
   },
   "outputs": [
    {
     "name": "stdout",
     "output_type": "stream",
     "text": [
      " ----------- Confusion Matrix ------------\n",
      "[[56325 47255]\n",
      " [  341  1049]]\n"
     ]
    },
    {
     "data": {
      "image/png": "[encoded data removed]",
      "text/plain": [
       "<Figure size 400x300 with 1 Axes>"
      ]
     },
     "metadata": {},
     "output_type": "display_data"
    }
   ],
   "source": [
    "import matplotlib.pyplot as plt\n",
    "import seaborn as sns\n",
    "\n",
    "print(\" ----------- Confusion Matrix ------------\")\n",
    "cm = confusion_matrix(y_test, y_pred)\n",
    "print(cm)\n",
    "\n",
    "# visualizing the cm\n",
    "plt.figure(figsize=(4, 3))\n",
    "sns.heatmap(cm, annot=True, fmt='d', cmap='Blues', cbar=False,\n",
    "           xticklabels=['Predicted 0', 'Predicted 1'],\n",
    "           yticklabels=['Actual 0', 'Actual 1'])\n",
    "plt.title('Confusion Matrix')\n",
    "plt.xlabel('Predicted Label')\n",
    "plt.ylabel('True Label')\n",
    "plt.show()"
   ]
  },
  {
   "cell_type": "markdown",
   "id": "8dd156b6",
   "metadata": {
    "papermill": {
     "duration": 0.004598,
     "end_time": "2025-05-28T08:44:31.305864",
     "exception": false,
     "start_time": "2025-05-28T08:44:31.301266",
     "status": "completed"
    },
    "tags": []
   },
   "source": [
    "## Using Random Forest Classifier"
   ]
  },
  {
   "cell_type": "code",
   "execution_count": 11,
   "id": "97044aaa",
   "metadata": {
    "execution": {
     "iopub.execute_input": "2025-05-28T08:44:31.316989Z",
     "iopub.status.busy": "2025-05-28T08:44:31.316470Z",
     "iopub.status.idle": "2025-05-28T08:44:59.601615Z",
     "shell.execute_reply": "2025-05-28T08:44:59.600479Z"
    },
    "papermill": {
     "duration": 28.292845,
     "end_time": "2025-05-28T08:44:59.603505",
     "exception": false,
     "start_time": "2025-05-28T08:44:31.310660",
     "status": "completed"
    },
    "tags": []
   },
   "outputs": [],
   "source": [
    "from sklearn.ensemble import RandomForestClassifier    # for robust approach\n",
    "\n",
    "# train-test split\n",
    "X = df.drop('label', axis=1)\n",
    "y = df['label']\n",
    "X_train, X_test, y_train, y_test = train_test_split(X, y, test_size=0.2, random_state=42, stratify=y)\n",
    "\n",
    "# Training Logistic Regression\n",
    "rf = RandomForestClassifier(random_state=42, n_estimators=100, class_weight='balanced',n_jobs=-1)       # n_jobs=-1, means it will us all available CPU cores for faster training\n",
    "rf.fit(X_train, y_train)\n",
    "y_pred = rf.predict(X_test)"
   ]
  },
  {
   "cell_type": "code",
   "execution_count": 12,
   "id": "136c9bca",
   "metadata": {
    "execution": {
     "iopub.execute_input": "2025-05-28T08:44:59.616370Z",
     "iopub.status.busy": "2025-05-28T08:44:59.615977Z",
     "iopub.status.idle": "2025-05-28T08:45:00.702771Z",
     "shell.execute_reply": "2025-05-28T08:45:00.701782Z"
    },
    "papermill": {
     "duration": 1.095137,
     "end_time": "2025-05-28T08:45:00.704707",
     "exception": false,
     "start_time": "2025-05-28T08:44:59.609570",
     "status": "completed"
    },
    "tags": []
   },
   "outputs": [
    {
     "name": "stdout",
     "output_type": "stream",
     "text": [
      "------------- Model Performance -------------\n",
      "Accuracy:  0.9828\n",
      "Precision (Phishing):  0.3272\n",
      "Recall (Phishing):  0.2806\n",
      "F1-Score (Phishing):  0.3021\n",
      "ROC AUC Score: 0.6364163660382757\n",
      " ----------- Confusion Matrix ------------\n",
      "[[102778    802]\n",
      " [  1000    390]]\n"
     ]
    },
    {
     "data": {
      "image/png": "[encoded data removed]",
      "text/plain": [
       "<Figure size 400x300 with 1 Axes>"
      ]
     },
     "metadata": {},
     "output_type": "display_data"
    }
   ],
   "source": [
    "y_pred_proba = rf.predict_proba(X_test)[:, 1]  # probability for the positive class (1)\n",
    "\n",
    "print(\"------------- Model Performance -------------\")\n",
    "print(f\"Accuracy: {accuracy_score(y_test, y_pred): .4f}\")\n",
    "print(f\"Precision (Phishing): {precision_score(y_test, y_pred, pos_label=1): .4f}\")\n",
    "print(f\"Recall (Phishing): {recall_score(y_test, y_pred, pos_label=1): .4f}\")\n",
    "print(f\"F1-Score (Phishing): {f1_score(y_test, y_pred, pos_label=1): .4f}\")\n",
    "print(f\"ROC AUC Score: {roc_auc_score(y_test, y_pred)}\")\n",
    "\n",
    "import matplotlib.pyplot as plt\n",
    "import seaborn as sns\n",
    "\n",
    "print(\" ----------- Confusion Matrix ------------\")\n",
    "cm = confusion_matrix(y_test, y_pred)\n",
    "print(cm)\n",
    "\n",
    "# visualizing the cm\n",
    "plt.figure(figsize=(4, 3))\n",
    "sns.heatmap(cm, annot=True, fmt='d', cmap='Blues', cbar=False,\n",
    "           xticklabels=['Predicted 0', 'Predicted 1'],\n",
    "           yticklabels=['Actual 0', 'Actual 1'])\n",
    "plt.title('Confusion Matrix')\n",
    "plt.xlabel('Predicted Label')\n",
    "plt.ylabel('True Label')\n",
    "plt.show()"
   ]
  },
  {
   "cell_type": "markdown",
   "id": "b1bd3261",
   "metadata": {
    "papermill": {
     "duration": 0.005067,
     "end_time": "2025-05-28T08:45:00.715524",
     "exception": false,
     "start_time": "2025-05-28T08:45:00.710457",
     "status": "completed"
    },
    "tags": []
   },
   "source": [
    "## Using Gradient Boosting"
   ]
  },
  {
   "cell_type": "code",
   "execution_count": 13,
   "id": "2a3b5cd4",
   "metadata": {
    "execution": {
     "iopub.execute_input": "2025-05-28T08:45:00.727932Z",
     "iopub.status.busy": "2025-05-28T08:45:00.727595Z",
     "iopub.status.idle": "2025-05-28T08:45:12.436758Z",
     "shell.execute_reply": "2025-05-28T08:45:12.435444Z"
    },
    "papermill": {
     "duration": 11.718665,
     "end_time": "2025-05-28T08:45:12.439506",
     "exception": false,
     "start_time": "2025-05-28T08:45:00.720841",
     "status": "completed"
    },
    "tags": []
   },
   "outputs": [
    {
     "name": "stdout",
     "output_type": "stream",
     "text": [
      "[LightGBM] [Info] Number of positive: 5559, number of negative: 414317\n",
      "[LightGBM] [Info] Auto-choosing col-wise multi-threading, the overhead of testing was 0.033463 seconds.\n",
      "You can set `force_col_wise=true` to remove the overhead.\n",
      "[LightGBM] [Info] Total Bins 1375\n",
      "[LightGBM] [Info] Number of data points in the train set: 419876, number of used features: 8\n",
      "[LightGBM] [Info] [binary:BoostFromScore]: pavg=0.013240 -> initscore=-4.311213\n",
      "[LightGBM] [Info] Start training from score -4.311213\n"
     ]
    }
   ],
   "source": [
    "import lightgbm as lgb     # for Gradient Boosting, for its speed and performance\n",
    "\n",
    "# train-test split\n",
    "X = df.drop('label', axis=1)\n",
    "y = df['label']\n",
    "X_train, X_test, y_train, y_test = train_test_split(X, y, test_size=0.2, random_state=42, stratify=y)\n",
    "\n",
    "# Training Logistic Regression\n",
    "lgbm = lgb.LGBMClassifier(random_state=42, is_unbalance=True, n_estimators=200)       # is_unbalance=True helps with imbalance\n",
    "lgbm.fit(X_train, y_train)\n",
    "y_pred = lgbm.predict(X_test)"
   ]
  },
  {
   "cell_type": "code",
   "execution_count": 14,
   "id": "cd9a6786",
   "metadata": {
    "execution": {
     "iopub.execute_input": "2025-05-28T08:45:12.452664Z",
     "iopub.status.busy": "2025-05-28T08:45:12.451925Z",
     "iopub.status.idle": "2025-05-28T08:45:13.323706Z",
     "shell.execute_reply": "2025-05-28T08:45:13.322666Z"
    },
    "papermill": {
     "duration": 0.880264,
     "end_time": "2025-05-28T08:45:13.325637",
     "exception": false,
     "start_time": "2025-05-28T08:45:12.445373",
     "status": "completed"
    },
    "tags": []
   },
   "outputs": [
    {
     "name": "stdout",
     "output_type": "stream",
     "text": [
      "------------- Model Performance -------------\n",
      "Accuracy:  0.8191\n",
      "Precision (Phishing):  0.0525\n",
      "Recall (Phishing):  0.7432\n",
      "F1-Score (Phishing):  0.0981\n",
      "ROC AUC Score: 0.7816522453016541\n",
      " ----------- Confusion Matrix ------------\n",
      "[[84950 18630]\n",
      " [  357  1033]]\n"
     ]
    },
    {
     "data": {
      "image/png": "[encoded data removed]",
      "text/plain": [
       "<Figure size 400x300 with 1 Axes>"
      ]
     },
     "metadata": {},
     "output_type": "display_data"
    }
   ],
   "source": [
    "y_pred_proba = lgbm.predict_proba(X_test)[:, 1]  # probability for the positive class (1)\n",
    "\n",
    "print(\"------------- Model Performance -------------\")\n",
    "print(f\"Accuracy: {accuracy_score(y_test, y_pred): .4f}\")\n",
    "print(f\"Precision (Phishing): {precision_score(y_test, y_pred, pos_label=1): .4f}\")\n",
    "print(f\"Recall (Phishing): {recall_score(y_test, y_pred, pos_label=1): .4f}\")\n",
    "print(f\"F1-Score (Phishing): {f1_score(y_test, y_pred, pos_label=1): .4f}\")\n",
    "print(f\"ROC AUC Score: {roc_auc_score(y_test, y_pred)}\")\n",
    "\n",
    "import matplotlib.pyplot as plt\n",
    "import seaborn as sns\n",
    "\n",
    "print(\" ----------- Confusion Matrix ------------\")\n",
    "cm = confusion_matrix(y_test, y_pred)\n",
    "print(cm)\n",
    "\n",
    "# visualizing the cm\n",
    "plt.figure(figsize=(4, 3))\n",
    "sns.heatmap(cm, annot=True, fmt='d', cmap='Blues', cbar=False,\n",
    "           xticklabels=['Predicted 0', 'Predicted 1'],\n",
    "           yticklabels=['Actual 0', 'Actual 1'])\n",
    "plt.title('Confusion Matrix')\n",
    "plt.xlabel('Predicted Label')\n",
    "plt.ylabel('True Label')\n",
    "plt.show()"
   ]
  }
 ],
 "metadata": {
  "kaggle": {
   "accelerator": "none",
   "dataSources": [
    {
     "datasetId": 7016979,
     "sourceId": 11233177,
     "sourceType": "datasetVersion"
    }
   ],
   "dockerImageVersionId": 31040,
   "isGpuEnabled": false,
   "isInternetEnabled": false,
   "language": "python",
   "sourceType": "notebook"
  },
  "kernelspec": {
   "display_name": "Python 3",
   "language": "python",
   "name": "python3"
  },
  "language_info": {
   "codemirror_mode": {
    "name": "ipython",
    "version": 3
   },
   "file_extension": ".py",
   "mimetype": "text/x-python",
   "name": "python",
   "nbconvert_exporter": "python",
   "pygments_lexer": "ipython3",
   "version": "3.11.11"
  },
  "papermill": {
   "default_parameters": {},
   "duration": 58.567987,
   "end_time": "2025-05-28T08:45:14.456210",
   "environment_variables": {},
   "exception": null,
   "input_path": "__notebook__.ipynb",
   "output_path": "__notebook__.ipynb",
   "parameters": {},
   "start_time": "2025-05-28T08:44:15.888223",
   "version": "2.6.0"
  }
 },
 "nbformat": 4,
 "nbformat_minor": 5
}
