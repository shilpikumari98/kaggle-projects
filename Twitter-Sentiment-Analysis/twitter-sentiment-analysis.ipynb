{
 "cells": [
  {
   "cell_type": "code",
   "execution_count": 1,
   "id": "45fcf9b5",
   "metadata": {
    "_cell_guid": "b1076dfc-b9ad-4769-8c92-a6c4dae69d19",
    "_uuid": "8f2839f25d086af736a60e9eeb907d3b93b6e0e5",
    "execution": {
     "iopub.execute_input": "2025-05-27T10:47:10.614783Z",
     "iopub.status.busy": "2025-05-27T10:47:10.614399Z",
     "iopub.status.idle": "2025-05-27T10:47:12.634202Z",
     "shell.execute_reply": "2025-05-27T10:47:12.632713Z"
    },
    "papermill": {
     "duration": 2.030906,
     "end_time": "2025-05-27T10:47:12.635997",
     "exception": false,
     "start_time": "2025-05-27T10:47:10.605091",
     "status": "completed"
    },
    "tags": []
   },
   "outputs": [
    {
     "name": "stdout",
     "output_type": "stream",
     "text": [
      "/kaggle/input/twitter-entity-sentiment-analysis/twitter_validation.csv\n",
      "/kaggle/input/twitter-entity-sentiment-analysis/twitter_training.csv\n"
     ]
    }
   ],
   "source": [
    "# This Python 3 environment comes with many helpful analytics libraries installed\n",
    "# It is defined by the kaggle/python Docker image: https://github.com/kaggle/docker-python\n",
    "# For example, here's several helpful packages to load\n",
    "\n",
    "import numpy as np # linear algebra\n",
    "import pandas as pd # data processing, CSV file I/O (e.g. pd.read_csv)\n",
    "\n",
    "# Input data files are available in the read-only \"../input/\" directory\n",
    "# For example, running this (by clicking run or pressing Shift+Enter) will list all files under the input directory\n",
    "\n",
    "import os\n",
    "for dirname, _, filenames in os.walk('/kaggle/input'):\n",
    "    for filename in filenames:\n",
    "        print(os.path.join(dirname, filename))\n",
    "\n",
    "# You can write up to 20GB to the current directory (/kaggle/working/) that gets preserved as output when you create a version using \"Save & Run All\" \n",
    "# You can also write temporary files to /kaggle/temp/, but they won't be saved outside of the current session"
   ]
  },
  {
   "cell_type": "code",
   "execution_count": 2,
   "id": "6e914111",
   "metadata": {
    "execution": {
     "iopub.execute_input": "2025-05-27T10:47:12.651143Z",
     "iopub.status.busy": "2025-05-27T10:47:12.650721Z",
     "iopub.status.idle": "2025-05-27T10:47:13.158785Z",
     "shell.execute_reply": "2025-05-27T10:47:13.157846Z"
    },
    "papermill": {
     "duration": 0.517429,
     "end_time": "2025-05-27T10:47:13.160495",
     "exception": false,
     "start_time": "2025-05-27T10:47:12.643066",
     "status": "completed"
    },
    "tags": []
   },
   "outputs": [
    {
     "data": {
      "text/html": [
       "<div>\n",
       "<style scoped>\n",
       "    .dataframe tbody tr th:only-of-type {\n",
       "        vertical-align: middle;\n",
       "    }\n",
       "\n",
       "    .dataframe tbody tr th {\n",
       "        vertical-align: top;\n",
       "    }\n",
       "\n",
       "    .dataframe thead th {\n",
       "        text-align: right;\n",
       "    }\n",
       "</style>\n",
       "<table border=\"1\" class=\"dataframe\">\n",
       "  <thead>\n",
       "    <tr style=\"text-align: right;\">\n",
       "      <th></th>\n",
       "      <th>2401</th>\n",
       "      <th>Borderlands</th>\n",
       "      <th>Positive</th>\n",
       "      <th>im getting on borderlands and i will murder you all ,</th>\n",
       "    </tr>\n",
       "  </thead>\n",
       "  <tbody>\n",
       "    <tr>\n",
       "      <th>15784</th>\n",
       "      <td>3100</td>\n",
       "      <td>Dota2</td>\n",
       "      <td>Positive</td>\n",
       "      <td>This is basic dope.</td>\n",
       "    </tr>\n",
       "    <tr>\n",
       "      <th>35792</th>\n",
       "      <td>8145</td>\n",
       "      <td>Microsoft</td>\n",
       "      <td>Positive</td>\n",
       "      <td>Our .. Jasmine works within a panel of experts...</td>\n",
       "    </tr>\n",
       "    <tr>\n",
       "      <th>7722</th>\n",
       "      <td>9327</td>\n",
       "      <td>Overwatch</td>\n",
       "      <td>Irrelevant</td>\n",
       "      <td>Be sure to tune in to my Brothers Stream tonig...</td>\n",
       "    </tr>\n",
       "  </tbody>\n",
       "</table>\n",
       "</div>"
      ],
      "text/plain": [
       "       2401 Borderlands    Positive  \\\n",
       "15784  3100       Dota2    Positive   \n",
       "35792  8145   Microsoft    Positive   \n",
       "7722   9327   Overwatch  Irrelevant   \n",
       "\n",
       "      im getting on borderlands and i will murder you all ,  \n",
       "15784                                This is basic dope.     \n",
       "35792  Our .. Jasmine works within a panel of experts...     \n",
       "7722   Be sure to tune in to my Brothers Stream tonig...     "
      ]
     },
     "execution_count": 2,
     "metadata": {},
     "output_type": "execute_result"
    }
   ],
   "source": [
    "training_df = pd.read_csv(\"/kaggle/input/twitter-entity-sentiment-analysis/twitter_training.csv\")\n",
    "training_df.sample(3)"
   ]
  },
  {
   "cell_type": "code",
   "execution_count": 3,
   "id": "4b7996b4",
   "metadata": {
    "execution": {
     "iopub.execute_input": "2025-05-27T10:47:13.175811Z",
     "iopub.status.busy": "2025-05-27T10:47:13.175450Z",
     "iopub.status.idle": "2025-05-27T10:47:13.200746Z",
     "shell.execute_reply": "2025-05-27T10:47:13.199763Z"
    },
    "papermill": {
     "duration": 0.03473,
     "end_time": "2025-05-27T10:47:13.202274",
     "exception": false,
     "start_time": "2025-05-27T10:47:13.167544",
     "status": "completed"
    },
    "tags": []
   },
   "outputs": [
    {
     "data": {
      "text/html": [
       "<div>\n",
       "<style scoped>\n",
       "    .dataframe tbody tr th:only-of-type {\n",
       "        vertical-align: middle;\n",
       "    }\n",
       "\n",
       "    .dataframe tbody tr th {\n",
       "        vertical-align: top;\n",
       "    }\n",
       "\n",
       "    .dataframe thead th {\n",
       "        text-align: right;\n",
       "    }\n",
       "</style>\n",
       "<table border=\"1\" class=\"dataframe\">\n",
       "  <thead>\n",
       "    <tr style=\"text-align: right;\">\n",
       "      <th></th>\n",
       "      <th>3364</th>\n",
       "      <th>Facebook</th>\n",
       "      <th>Irrelevant</th>\n",
       "      <th>I mentioned on Facebook that I was struggling for motivation to go for a run the other day, which has been translated by Tom’s great auntie as ‘Hayley can’t get out of bed’ and told to his grandma, who now thinks I’m a lazy, terrible person 🤣</th>\n",
       "    </tr>\n",
       "  </thead>\n",
       "  <tbody>\n",
       "    <tr>\n",
       "      <th>889</th>\n",
       "      <td>4569</td>\n",
       "      <td>Google</td>\n",
       "      <td>Neutral</td>\n",
       "      <td>Morning Year 4! This week's English has got me...</td>\n",
       "    </tr>\n",
       "    <tr>\n",
       "      <th>982</th>\n",
       "      <td>3108</td>\n",
       "      <td>Dota2</td>\n",
       "      <td>Negative</td>\n",
       "      <td>wtf</td>\n",
       "    </tr>\n",
       "    <tr>\n",
       "      <th>852</th>\n",
       "      <td>7069</td>\n",
       "      <td>johnson&amp;johnson</td>\n",
       "      <td>Neutral</td>\n",
       "      <td>Johnson&amp;Johnson paused all it's trials related...</td>\n",
       "    </tr>\n",
       "  </tbody>\n",
       "</table>\n",
       "</div>"
      ],
      "text/plain": [
       "     3364         Facebook Irrelevant  \\\n",
       "889  4569           Google    Neutral   \n",
       "982  3108            Dota2   Negative   \n",
       "852  7069  johnson&johnson    Neutral   \n",
       "\n",
       "    I mentioned on Facebook that I was struggling for motivation to go for a run the other day, which has been translated by Tom’s great auntie as ‘Hayley can’t get out of bed’ and told to his grandma, who now thinks I’m a lazy, terrible person 🤣  \n",
       "889  Morning Year 4! This week's English has got me...                                                                                                                                                                                                  \n",
       "982                                                wtf                                                                                                                                                                                                  \n",
       "852  Johnson&Johnson paused all it's trials related...                                                                                                                                                                                                  "
      ]
     },
     "execution_count": 3,
     "metadata": {},
     "output_type": "execute_result"
    }
   ],
   "source": [
    "validation_df = pd.read_csv(\"/kaggle/input/twitter-entity-sentiment-analysis/twitter_validation.csv\")\n",
    "validation_df.sample(3)"
   ]
  },
  {
   "cell_type": "code",
   "execution_count": 4,
   "id": "63d1ad4f",
   "metadata": {
    "execution": {
     "iopub.execute_input": "2025-05-27T10:47:13.220171Z",
     "iopub.status.busy": "2025-05-27T10:47:13.219834Z",
     "iopub.status.idle": "2025-05-27T10:47:13.227660Z",
     "shell.execute_reply": "2025-05-27T10:47:13.226687Z"
    },
    "papermill": {
     "duration": 0.018448,
     "end_time": "2025-05-27T10:47:13.229249",
     "exception": false,
     "start_time": "2025-05-27T10:47:13.210801",
     "status": "completed"
    },
    "tags": []
   },
   "outputs": [
    {
     "data": {
      "text/plain": [
       "Index(['2401', 'Borderlands', 'Positive',\n",
       "       'im getting on borderlands and i will murder you all ,'],\n",
       "      dtype='object')"
      ]
     },
     "execution_count": 4,
     "metadata": {},
     "output_type": "execute_result"
    }
   ],
   "source": [
    "training_df.columns"
   ]
  },
  {
   "cell_type": "code",
   "execution_count": 5,
   "id": "4e15c94e",
   "metadata": {
    "execution": {
     "iopub.execute_input": "2025-05-27T10:47:13.245226Z",
     "iopub.status.busy": "2025-05-27T10:47:13.244920Z",
     "iopub.status.idle": "2025-05-27T10:47:13.266068Z",
     "shell.execute_reply": "2025-05-27T10:47:13.265200Z"
    },
    "papermill": {
     "duration": 0.031266,
     "end_time": "2025-05-27T10:47:13.267818",
     "exception": false,
     "start_time": "2025-05-27T10:47:13.236552",
     "status": "completed"
    },
    "tags": []
   },
   "outputs": [
    {
     "data": {
      "text/html": [
       "<div>\n",
       "<style scoped>\n",
       "    .dataframe tbody tr th:only-of-type {\n",
       "        vertical-align: middle;\n",
       "    }\n",
       "\n",
       "    .dataframe tbody tr th {\n",
       "        vertical-align: top;\n",
       "    }\n",
       "\n",
       "    .dataframe thead th {\n",
       "        text-align: right;\n",
       "    }\n",
       "</style>\n",
       "<table border=\"1\" class=\"dataframe\">\n",
       "  <thead>\n",
       "    <tr style=\"text-align: right;\">\n",
       "      <th></th>\n",
       "      <th>2401</th>\n",
       "    </tr>\n",
       "  </thead>\n",
       "  <tbody>\n",
       "    <tr>\n",
       "      <th>count</th>\n",
       "      <td>74681.000000</td>\n",
       "    </tr>\n",
       "    <tr>\n",
       "      <th>mean</th>\n",
       "      <td>6432.640149</td>\n",
       "    </tr>\n",
       "    <tr>\n",
       "      <th>std</th>\n",
       "      <td>3740.423819</td>\n",
       "    </tr>\n",
       "    <tr>\n",
       "      <th>min</th>\n",
       "      <td>1.000000</td>\n",
       "    </tr>\n",
       "    <tr>\n",
       "      <th>25%</th>\n",
       "      <td>3195.000000</td>\n",
       "    </tr>\n",
       "    <tr>\n",
       "      <th>50%</th>\n",
       "      <td>6422.000000</td>\n",
       "    </tr>\n",
       "    <tr>\n",
       "      <th>75%</th>\n",
       "      <td>9601.000000</td>\n",
       "    </tr>\n",
       "    <tr>\n",
       "      <th>max</th>\n",
       "      <td>13200.000000</td>\n",
       "    </tr>\n",
       "  </tbody>\n",
       "</table>\n",
       "</div>"
      ],
      "text/plain": [
       "               2401\n",
       "count  74681.000000\n",
       "mean    6432.640149\n",
       "std     3740.423819\n",
       "min        1.000000\n",
       "25%     3195.000000\n",
       "50%     6422.000000\n",
       "75%     9601.000000\n",
       "max    13200.000000"
      ]
     },
     "execution_count": 5,
     "metadata": {},
     "output_type": "execute_result"
    }
   ],
   "source": [
    "training_df.describe()"
   ]
  },
  {
   "cell_type": "code",
   "execution_count": 6,
   "id": "738675b3",
   "metadata": {
    "execution": {
     "iopub.execute_input": "2025-05-27T10:47:13.285442Z",
     "iopub.status.busy": "2025-05-27T10:47:13.285102Z",
     "iopub.status.idle": "2025-05-27T10:47:13.323016Z",
     "shell.execute_reply": "2025-05-27T10:47:13.321859Z"
    },
    "papermill": {
     "duration": 0.048337,
     "end_time": "2025-05-27T10:47:13.324684",
     "exception": false,
     "start_time": "2025-05-27T10:47:13.276347",
     "status": "completed"
    },
    "tags": []
   },
   "outputs": [
    {
     "name": "stdout",
     "output_type": "stream",
     "text": [
      "<class 'pandas.core.frame.DataFrame'>\n",
      "RangeIndex: 74681 entries, 0 to 74680\n",
      "Data columns (total 4 columns):\n",
      " #   Column                                                 Non-Null Count  Dtype \n",
      "---  ------                                                 --------------  ----- \n",
      " 0   2401                                                   74681 non-null  int64 \n",
      " 1   Borderlands                                            74681 non-null  object\n",
      " 2   Positive                                               74681 non-null  object\n",
      " 3   im getting on borderlands and i will murder you all ,  73995 non-null  object\n",
      "dtypes: int64(1), object(3)\n",
      "memory usage: 2.3+ MB\n"
     ]
    }
   ],
   "source": [
    "training_df.info()"
   ]
  },
  {
   "cell_type": "code",
   "execution_count": 7,
   "id": "64beffc7",
   "metadata": {
    "execution": {
     "iopub.execute_input": "2025-05-27T10:47:13.341499Z",
     "iopub.status.busy": "2025-05-27T10:47:13.340727Z",
     "iopub.status.idle": "2025-05-27T10:47:13.634096Z",
     "shell.execute_reply": "2025-05-27T10:47:13.633187Z"
    },
    "papermill": {
     "duration": 0.303523,
     "end_time": "2025-05-27T10:47:13.635784",
     "exception": false,
     "start_time": "2025-05-27T10:47:13.332261",
     "status": "completed"
    },
    "tags": []
   },
   "outputs": [
    {
     "data": {
      "text/html": [
       "<div>\n",
       "<style scoped>\n",
       "    .dataframe tbody tr th:only-of-type {\n",
       "        vertical-align: middle;\n",
       "    }\n",
       "\n",
       "    .dataframe tbody tr th {\n",
       "        vertical-align: top;\n",
       "    }\n",
       "\n",
       "    .dataframe thead th {\n",
       "        text-align: right;\n",
       "    }\n",
       "</style>\n",
       "<table border=\"1\" class=\"dataframe\">\n",
       "  <thead>\n",
       "    <tr style=\"text-align: right;\">\n",
       "      <th></th>\n",
       "      <th>ID</th>\n",
       "      <th>Entity</th>\n",
       "      <th>Sentiment</th>\n",
       "      <th>Tweet Text</th>\n",
       "    </tr>\n",
       "  </thead>\n",
       "  <tbody>\n",
       "    <tr>\n",
       "      <th>0</th>\n",
       "      <td>2401</td>\n",
       "      <td>Borderlands</td>\n",
       "      <td>Positive</td>\n",
       "      <td>im getting on borderlands and i will murder yo...</td>\n",
       "    </tr>\n",
       "    <tr>\n",
       "      <th>1</th>\n",
       "      <td>2401</td>\n",
       "      <td>Borderlands</td>\n",
       "      <td>Positive</td>\n",
       "      <td>I am coming to the borders and I will kill you...</td>\n",
       "    </tr>\n",
       "    <tr>\n",
       "      <th>2</th>\n",
       "      <td>2401</td>\n",
       "      <td>Borderlands</td>\n",
       "      <td>Positive</td>\n",
       "      <td>im getting on borderlands and i will kill you ...</td>\n",
       "    </tr>\n",
       "    <tr>\n",
       "      <th>3</th>\n",
       "      <td>2401</td>\n",
       "      <td>Borderlands</td>\n",
       "      <td>Positive</td>\n",
       "      <td>im coming on borderlands and i will murder you...</td>\n",
       "    </tr>\n",
       "    <tr>\n",
       "      <th>4</th>\n",
       "      <td>2401</td>\n",
       "      <td>Borderlands</td>\n",
       "      <td>Positive</td>\n",
       "      <td>im getting on borderlands 2 and i will murder ...</td>\n",
       "    </tr>\n",
       "  </tbody>\n",
       "</table>\n",
       "</div>"
      ],
      "text/plain": [
       "     ID       Entity Sentiment  \\\n",
       "0  2401  Borderlands  Positive   \n",
       "1  2401  Borderlands  Positive   \n",
       "2  2401  Borderlands  Positive   \n",
       "3  2401  Borderlands  Positive   \n",
       "4  2401  Borderlands  Positive   \n",
       "\n",
       "                                          Tweet Text  \n",
       "0  im getting on borderlands and i will murder yo...  \n",
       "1  I am coming to the borders and I will kill you...  \n",
       "2  im getting on borderlands and i will kill you ...  \n",
       "3  im coming on borderlands and i will murder you...  \n",
       "4  im getting on borderlands 2 and i will murder ...  "
      ]
     },
     "execution_count": 7,
     "metadata": {},
     "output_type": "execute_result"
    }
   ],
   "source": [
    "# define the column names based on the dataset description\n",
    "column_names = ['ID', 'Entity', 'Sentiment', 'Tweet Text']\n",
    "\n",
    "# load dataset\n",
    "training_df = pd.read_csv('/kaggle/input/twitter-entity-sentiment-analysis/twitter_training.csv', header=None, names=column_names)\n",
    "training_df.head()"
   ]
  },
  {
   "cell_type": "code",
   "execution_count": 8,
   "id": "c7948b28",
   "metadata": {
    "execution": {
     "iopub.execute_input": "2025-05-27T10:47:13.652456Z",
     "iopub.status.busy": "2025-05-27T10:47:13.652104Z",
     "iopub.status.idle": "2025-05-27T10:47:13.670841Z",
     "shell.execute_reply": "2025-05-27T10:47:13.669672Z"
    },
    "papermill": {
     "duration": 0.029332,
     "end_time": "2025-05-27T10:47:13.672767",
     "exception": false,
     "start_time": "2025-05-27T10:47:13.643435",
     "status": "completed"
    },
    "tags": []
   },
   "outputs": [
    {
     "data": {
      "text/html": [
       "<div>\n",
       "<style scoped>\n",
       "    .dataframe tbody tr th:only-of-type {\n",
       "        vertical-align: middle;\n",
       "    }\n",
       "\n",
       "    .dataframe tbody tr th {\n",
       "        vertical-align: top;\n",
       "    }\n",
       "\n",
       "    .dataframe thead th {\n",
       "        text-align: right;\n",
       "    }\n",
       "</style>\n",
       "<table border=\"1\" class=\"dataframe\">\n",
       "  <thead>\n",
       "    <tr style=\"text-align: right;\">\n",
       "      <th></th>\n",
       "      <th>ID</th>\n",
       "      <th>Entity</th>\n",
       "      <th>Sentiment</th>\n",
       "      <th>Tweet Text</th>\n",
       "    </tr>\n",
       "  </thead>\n",
       "  <tbody>\n",
       "    <tr>\n",
       "      <th>597</th>\n",
       "      <td>2994</td>\n",
       "      <td>Dota2</td>\n",
       "      <td>Neutral</td>\n",
       "      <td>😎 @Crystallize99 became the top of EU MMR lead...</td>\n",
       "    </tr>\n",
       "    <tr>\n",
       "      <th>410</th>\n",
       "      <td>12725</td>\n",
       "      <td>WorldOfCraft</td>\n",
       "      <td>Irrelevant</td>\n",
       "      <td>Oh boy I bet the responses to this in the comm...</td>\n",
       "    </tr>\n",
       "    <tr>\n",
       "      <th>301</th>\n",
       "      <td>6353</td>\n",
       "      <td>FIFA</td>\n",
       "      <td>Positive</td>\n",
       "      <td>This was easily the best Fifa. First time with...</td>\n",
       "    </tr>\n",
       "    <tr>\n",
       "      <th>866</th>\n",
       "      <td>11363</td>\n",
       "      <td>TomClancysRainbowSix</td>\n",
       "      <td>Positive</td>\n",
       "      <td>#RainbowSixSiege where are hereford, plane, ch...</td>\n",
       "    </tr>\n",
       "    <tr>\n",
       "      <th>115</th>\n",
       "      <td>5122</td>\n",
       "      <td>GrandTheftAuto(GTA)</td>\n",
       "      <td>Neutral</td>\n",
       "      <td>People who killed Michael or Trevor at the end...</td>\n",
       "    </tr>\n",
       "  </tbody>\n",
       "</table>\n",
       "</div>"
      ],
      "text/plain": [
       "        ID                Entity   Sentiment  \\\n",
       "597   2994                 Dota2     Neutral   \n",
       "410  12725          WorldOfCraft  Irrelevant   \n",
       "301   6353                  FIFA    Positive   \n",
       "866  11363  TomClancysRainbowSix    Positive   \n",
       "115   5122   GrandTheftAuto(GTA)     Neutral   \n",
       "\n",
       "                                            Tweet Text  \n",
       "597  😎 @Crystallize99 became the top of EU MMR lead...  \n",
       "410  Oh boy I bet the responses to this in the comm...  \n",
       "301  This was easily the best Fifa. First time with...  \n",
       "866  #RainbowSixSiege where are hereford, plane, ch...  \n",
       "115  People who killed Michael or Trevor at the end...  "
      ]
     },
     "execution_count": 8,
     "metadata": {},
     "output_type": "execute_result"
    }
   ],
   "source": [
    "validation_df = pd.read_csv(\"/kaggle/input/twitter-entity-sentiment-analysis/twitter_validation.csv\", header=None, names=column_names)\n",
    "validation_df.sample(5)"
   ]
  },
  {
   "cell_type": "code",
   "execution_count": 9,
   "id": "f8072619",
   "metadata": {
    "execution": {
     "iopub.execute_input": "2025-05-27T10:47:13.689987Z",
     "iopub.status.busy": "2025-05-27T10:47:13.689615Z",
     "iopub.status.idle": "2025-05-27T10:47:13.795729Z",
     "shell.execute_reply": "2025-05-27T10:47:13.794816Z"
    },
    "papermill": {
     "duration": 0.11677,
     "end_time": "2025-05-27T10:47:13.797481",
     "exception": false,
     "start_time": "2025-05-27T10:47:13.680711",
     "status": "completed"
    },
    "tags": []
   },
   "outputs": [
    {
     "name": "stderr",
     "output_type": "stream",
     "text": [
      "/usr/local/lib/python3.11/dist-packages/pandas/io/formats/format.py:1458: RuntimeWarning: invalid value encountered in greater\n",
      "  has_large_values = (abs_vals > 1e6).any()\n",
      "/usr/local/lib/python3.11/dist-packages/pandas/io/formats/format.py:1459: RuntimeWarning: invalid value encountered in less\n",
      "  has_small_values = ((abs_vals < 10 ** (-self.digits)) & (abs_vals > 0)).any()\n",
      "/usr/local/lib/python3.11/dist-packages/pandas/io/formats/format.py:1459: RuntimeWarning: invalid value encountered in greater\n",
      "  has_small_values = ((abs_vals < 10 ** (-self.digits)) & (abs_vals > 0)).any()\n"
     ]
    },
    {
     "data": {
      "text/html": [
       "<div>\n",
       "<style scoped>\n",
       "    .dataframe tbody tr th:only-of-type {\n",
       "        vertical-align: middle;\n",
       "    }\n",
       "\n",
       "    .dataframe tbody tr th {\n",
       "        vertical-align: top;\n",
       "    }\n",
       "\n",
       "    .dataframe thead th {\n",
       "        text-align: right;\n",
       "    }\n",
       "</style>\n",
       "<table border=\"1\" class=\"dataframe\">\n",
       "  <thead>\n",
       "    <tr style=\"text-align: right;\">\n",
       "      <th></th>\n",
       "      <th>ID</th>\n",
       "      <th>Entity</th>\n",
       "      <th>Sentiment</th>\n",
       "      <th>Tweet Text</th>\n",
       "    </tr>\n",
       "  </thead>\n",
       "  <tbody>\n",
       "    <tr>\n",
       "      <th>count</th>\n",
       "      <td>74682.000000</td>\n",
       "      <td>74682</td>\n",
       "      <td>74682</td>\n",
       "      <td>73996</td>\n",
       "    </tr>\n",
       "    <tr>\n",
       "      <th>unique</th>\n",
       "      <td>NaN</td>\n",
       "      <td>32</td>\n",
       "      <td>4</td>\n",
       "      <td>69491</td>\n",
       "    </tr>\n",
       "    <tr>\n",
       "      <th>top</th>\n",
       "      <td>NaN</td>\n",
       "      <td>TomClancysRainbowSix</td>\n",
       "      <td>Negative</td>\n",
       "      <td>At the same time, despite the fact that there ...</td>\n",
       "    </tr>\n",
       "    <tr>\n",
       "      <th>freq</th>\n",
       "      <td>NaN</td>\n",
       "      <td>2400</td>\n",
       "      <td>22542</td>\n",
       "      <td>172</td>\n",
       "    </tr>\n",
       "    <tr>\n",
       "      <th>mean</th>\n",
       "      <td>6432.586165</td>\n",
       "      <td>NaN</td>\n",
       "      <td>NaN</td>\n",
       "      <td>NaN</td>\n",
       "    </tr>\n",
       "    <tr>\n",
       "      <th>std</th>\n",
       "      <td>3740.427870</td>\n",
       "      <td>NaN</td>\n",
       "      <td>NaN</td>\n",
       "      <td>NaN</td>\n",
       "    </tr>\n",
       "    <tr>\n",
       "      <th>min</th>\n",
       "      <td>1.000000</td>\n",
       "      <td>NaN</td>\n",
       "      <td>NaN</td>\n",
       "      <td>NaN</td>\n",
       "    </tr>\n",
       "    <tr>\n",
       "      <th>25%</th>\n",
       "      <td>3195.000000</td>\n",
       "      <td>NaN</td>\n",
       "      <td>NaN</td>\n",
       "      <td>NaN</td>\n",
       "    </tr>\n",
       "    <tr>\n",
       "      <th>50%</th>\n",
       "      <td>6422.000000</td>\n",
       "      <td>NaN</td>\n",
       "      <td>NaN</td>\n",
       "      <td>NaN</td>\n",
       "    </tr>\n",
       "    <tr>\n",
       "      <th>75%</th>\n",
       "      <td>9601.000000</td>\n",
       "      <td>NaN</td>\n",
       "      <td>NaN</td>\n",
       "      <td>NaN</td>\n",
       "    </tr>\n",
       "    <tr>\n",
       "      <th>max</th>\n",
       "      <td>13200.000000</td>\n",
       "      <td>NaN</td>\n",
       "      <td>NaN</td>\n",
       "      <td>NaN</td>\n",
       "    </tr>\n",
       "  </tbody>\n",
       "</table>\n",
       "</div>"
      ],
      "text/plain": [
       "                  ID                Entity Sentiment  \\\n",
       "count   74682.000000                 74682     74682   \n",
       "unique           NaN                    32         4   \n",
       "top              NaN  TomClancysRainbowSix  Negative   \n",
       "freq             NaN                  2400     22542   \n",
       "mean     6432.586165                   NaN       NaN   \n",
       "std      3740.427870                   NaN       NaN   \n",
       "min         1.000000                   NaN       NaN   \n",
       "25%      3195.000000                   NaN       NaN   \n",
       "50%      6422.000000                   NaN       NaN   \n",
       "75%      9601.000000                   NaN       NaN   \n",
       "max     13200.000000                   NaN       NaN   \n",
       "\n",
       "                                               Tweet Text  \n",
       "count                                               73996  \n",
       "unique                                              69491  \n",
       "top     At the same time, despite the fact that there ...  \n",
       "freq                                                  172  \n",
       "mean                                                  NaN  \n",
       "std                                                   NaN  \n",
       "min                                                   NaN  \n",
       "25%                                                   NaN  \n",
       "50%                                                   NaN  \n",
       "75%                                                   NaN  \n",
       "max                                                   NaN  "
      ]
     },
     "execution_count": 9,
     "metadata": {},
     "output_type": "execute_result"
    }
   ],
   "source": [
    "training_df.describe(include='all')"
   ]
  },
  {
   "cell_type": "code",
   "execution_count": 10,
   "id": "23d4db95",
   "metadata": {
    "execution": {
     "iopub.execute_input": "2025-05-27T10:47:13.817624Z",
     "iopub.status.busy": "2025-05-27T10:47:13.817250Z",
     "iopub.status.idle": "2025-05-27T10:47:13.840092Z",
     "shell.execute_reply": "2025-05-27T10:47:13.839149Z"
    },
    "papermill": {
     "duration": 0.035473,
     "end_time": "2025-05-27T10:47:13.842014",
     "exception": false,
     "start_time": "2025-05-27T10:47:13.806541",
     "status": "completed"
    },
    "tags": []
   },
   "outputs": [
    {
     "data": {
      "text/plain": [
       "ID              0\n",
       "Entity          0\n",
       "Sentiment       0\n",
       "Tweet Text    686\n",
       "dtype: int64"
      ]
     },
     "execution_count": 10,
     "metadata": {},
     "output_type": "execute_result"
    }
   ],
   "source": [
    "training_df.isnull().sum()"
   ]
  },
  {
   "cell_type": "code",
   "execution_count": 11,
   "id": "9d1bee81",
   "metadata": {
    "execution": {
     "iopub.execute_input": "2025-05-27T10:47:13.860476Z",
     "iopub.status.busy": "2025-05-27T10:47:13.860120Z",
     "iopub.status.idle": "2025-05-27T10:47:13.868973Z",
     "shell.execute_reply": "2025-05-27T10:47:13.867726Z"
    },
    "papermill": {
     "duration": 0.019522,
     "end_time": "2025-05-27T10:47:13.870727",
     "exception": false,
     "start_time": "2025-05-27T10:47:13.851205",
     "status": "completed"
    },
    "tags": []
   },
   "outputs": [
    {
     "data": {
      "text/plain": [
       "ID            0\n",
       "Entity        0\n",
       "Sentiment     0\n",
       "Tweet Text    0\n",
       "dtype: int64"
      ]
     },
     "execution_count": 11,
     "metadata": {},
     "output_type": "execute_result"
    }
   ],
   "source": [
    "validation_df.isnull().sum()"
   ]
  },
  {
   "cell_type": "code",
   "execution_count": 12,
   "id": "f6263d29",
   "metadata": {
    "execution": {
     "iopub.execute_input": "2025-05-27T10:47:13.888220Z",
     "iopub.status.busy": "2025-05-27T10:47:13.887875Z",
     "iopub.status.idle": "2025-05-27T10:47:13.922196Z",
     "shell.execute_reply": "2025-05-27T10:47:13.921118Z"
    },
    "papermill": {
     "duration": 0.044786,
     "end_time": "2025-05-27T10:47:13.923698",
     "exception": false,
     "start_time": "2025-05-27T10:47:13.878912",
     "status": "completed"
    },
    "tags": []
   },
   "outputs": [
    {
     "name": "stderr",
     "output_type": "stream",
     "text": [
      "/tmp/ipykernel_13/2765371498.py:3: FutureWarning: A value is trying to be set on a copy of a DataFrame or Series through chained assignment using an inplace method.\n",
      "The behavior will change in pandas 3.0. This inplace method will never work because the intermediate object on which we are setting values always behaves as a copy.\n",
      "\n",
      "For example, when doing 'df[col].method(value, inplace=True)', try using 'df.method({col: value}, inplace=True)' or df[col] = df[col].method(value) instead, to perform the operation inplace on the original object.\n",
      "\n",
      "\n",
      "  training_df['Tweet Text'].fillna('', inplace=True)\n"
     ]
    },
    {
     "data": {
      "text/plain": [
       "ID            0\n",
       "Entity        0\n",
       "Sentiment     0\n",
       "Tweet Text    0\n",
       "dtype: int64"
      ]
     },
     "execution_count": 12,
     "metadata": {},
     "output_type": "execute_result"
    }
   ],
   "source": [
    "# imputing missing values with an empty string, as NaN (float/int) might cause TypeError\n",
    "\n",
    "training_df['Tweet Text'].fillna('', inplace=True)\n",
    "training_df.isnull().sum()"
   ]
  },
  {
   "cell_type": "code",
   "execution_count": 13,
   "id": "837f9d36",
   "metadata": {
    "execution": {
     "iopub.execute_input": "2025-05-27T10:47:13.941958Z",
     "iopub.status.busy": "2025-05-27T10:47:13.941141Z",
     "iopub.status.idle": "2025-05-27T10:47:13.958220Z",
     "shell.execute_reply": "2025-05-27T10:47:13.956872Z"
    },
    "papermill": {
     "duration": 0.027915,
     "end_time": "2025-05-27T10:47:13.959976",
     "exception": false,
     "start_time": "2025-05-27T10:47:13.932061",
     "status": "completed"
    },
    "tags": []
   },
   "outputs": [
    {
     "name": "stdout",
     "output_type": "stream",
     "text": [
      "--------- Unique values in Categorical Columns: ---------\n",
      "column: Sentiment\n",
      "Sentiment\n",
      "Negative      22542\n",
      "Positive      20832\n",
      "Neutral       18318\n",
      "Irrelevant    12990\n",
      "Name: count, dtype: int64\n",
      "\n",
      "\n",
      "column: Entity\n",
      "Entity\n",
      "TomClancysRainbowSix                 2400\n",
      "MaddenNFL                            2400\n",
      "Microsoft                            2400\n",
      "LeagueOfLegends                      2394\n",
      "CallOfDuty                           2394\n",
      "Verizon                              2382\n",
      "CallOfDutyBlackopsColdWar            2376\n",
      "ApexLegends                          2376\n",
      "Facebook                             2370\n",
      "WorldOfCraft                         2364\n",
      "Dota2                                2364\n",
      "NBA2K                                2352\n",
      "TomClancysGhostRecon                 2346\n",
      "Battlefield                          2346\n",
      "FIFA                                 2340\n",
      "Xbox(Xseries)                        2334\n",
      "Overwatch                            2334\n",
      "johnson&johnson                      2328\n",
      "Amazon                               2316\n",
      "PlayStation5(PS5)                    2310\n",
      "HomeDepot                            2310\n",
      "Cyberpunk2077                        2304\n",
      "CS-GO                                2304\n",
      "GrandTheftAuto(GTA)                  2304\n",
      "Hearthstone                          2298\n",
      "Nvidia                               2298\n",
      "Google                               2298\n",
      "Borderlands                          2286\n",
      "PlayerUnknownsBattlegrounds(PUBG)    2274\n",
      "Fortnite                             2274\n",
      "RedDeadRedemption(RDR)               2262\n",
      "AssassinsCreed                       2244\n",
      "Name: count, dtype: int64\n",
      "\n",
      "\n"
     ]
    }
   ],
   "source": [
    "print(\"--------- Unique values in Categorical Columns: ---------\")\n",
    "for col in ['Sentiment', 'Entity']:\n",
    "    print(f\"column: {col}\")\n",
    "    print(training_df[col].value_counts())\n",
    "    print(\"\\n\")"
   ]
  },
  {
   "cell_type": "code",
   "execution_count": 14,
   "id": "1cb0ca43",
   "metadata": {
    "execution": {
     "iopub.execute_input": "2025-05-27T10:47:13.978485Z",
     "iopub.status.busy": "2025-05-27T10:47:13.978122Z",
     "iopub.status.idle": "2025-05-27T10:47:16.218708Z",
     "shell.execute_reply": "2025-05-27T10:47:16.217790Z"
    },
    "papermill": {
     "duration": 2.251504,
     "end_time": "2025-05-27T10:47:16.220101",
     "exception": false,
     "start_time": "2025-05-27T10:47:13.968597",
     "status": "completed"
    },
    "tags": []
   },
   "outputs": [
    {
     "data": {
      "image/png": "[encoded data removed]",
      "text/plain": [
       "<Figure size 640x480 with 1 Axes>"
      ]
     },
     "metadata": {},
     "output_type": "display_data"
    }
   ],
   "source": [
    "# Visualizations\n",
    "# Sentiment Distribution\n",
    "\n",
    "import matplotlib.pyplot as plt\n",
    "import seaborn as sns\n",
    "\n",
    "sns.countplot(data=training_df, x='Sentiment')\n",
    "plt.title(\"Distribution of Sentiments in Training Data\")\n",
    "plt.xlabel('Sentiment')\n",
    "plt.ylabel('Number of Tweets')\n",
    "plt.show()"
   ]
  },
  {
   "cell_type": "code",
   "execution_count": 15,
   "id": "194d14dc",
   "metadata": {
    "execution": {
     "iopub.execute_input": "2025-05-27T10:47:16.239278Z",
     "iopub.status.busy": "2025-05-27T10:47:16.238841Z",
     "iopub.status.idle": "2025-05-27T10:47:16.253209Z",
     "shell.execute_reply": "2025-05-27T10:47:16.252376Z"
    },
    "papermill": {
     "duration": 0.025815,
     "end_time": "2025-05-27T10:47:16.254899",
     "exception": false,
     "start_time": "2025-05-27T10:47:16.229084",
     "status": "completed"
    },
    "tags": []
   },
   "outputs": [],
   "source": [
    "# Mapping 'Irrelevant' Sentiment to 'Neutral'\n",
    "# Reason: simplifies our target classes for classification\n",
    "\n",
    "training_df['Sentiment'] = training_df['Sentiment'].replace('Irrelevant', 'Neutral')\n",
    "validation_df['Sentiment'] = validation_df['Sentiment'].replace('Irrelevant', 'Neutral')"
   ]
  },
  {
   "cell_type": "code",
   "execution_count": 16,
   "id": "25ce91a5",
   "metadata": {
    "execution": {
     "iopub.execute_input": "2025-05-27T10:47:16.273949Z",
     "iopub.status.busy": "2025-05-27T10:47:16.273651Z",
     "iopub.status.idle": "2025-05-27T10:47:16.284355Z",
     "shell.execute_reply": "2025-05-27T10:47:16.283256Z"
    },
    "papermill": {
     "duration": 0.022174,
     "end_time": "2025-05-27T10:47:16.285983",
     "exception": false,
     "start_time": "2025-05-27T10:47:16.263809",
     "status": "completed"
    },
    "tags": []
   },
   "outputs": [
    {
     "data": {
      "text/plain": [
       "56090     @ Rainbow6Game I can't log in to rain on my Xbox\n",
       "27790    @assassinscreed ok just break hold my heart my...\n",
       "15156    Awesome cinematics, I've played this game for ...\n",
       "34498              This guy has is fucking cracked holeeee\n",
       "13960    Moments pass like these are why then I like 2k...\n",
       "266      4 favorite games of all time. (thanks to @ 317...\n",
       "12491                                          the perfect\n",
       "21885                   .  Bubzjki loses teeth after dying\n",
       "9537                                 THE FUCK YOU W TO ME?\n",
       "73408    Fucking W, Glad a fan bought a little stock wh...\n",
       "30799    @ LeagueOfLegends ya know poppy bug killing th...\n",
       "28957                                       Bald HOE SHIT.\n",
       "26899    My experience with ASSASSIN'S CREED: ODYSSEY. ...\n",
       "63060    Lol man @EAMaddenNFL y’all screwed @ryantanneh...\n",
       "67377                                             Fuck off\n",
       "10931                                                   it\n",
       "8115     Today has probably the most fun I’ve had watch...\n",
       "66405    AstraZeneca and Johnson & Johnson have restart...\n",
       "23353                              Really starting to like\n",
       "33768    Yo this shit look fukin dope tbh @Flav_13 @God...\n",
       "27812    I turned off the lights in my room and the pos...\n",
       "39657    A ban of Formula 4 player lIlColdllI ak occurr...\n",
       "71397    @GhostRecon @UbisoftSupport hi. I've been tryi...\n",
       "6072     @Thehinsupayo Thanks for entering Grand Summon...\n",
       "20052                                        I loved the  \n",
       "69154                            Holy bloody fucking shit.\n",
       "53716    Happy 4th of July to the thriving @callofduty ...\n",
       "36086    Sony could destroy the gamepad if the PS5 is f...\n",
       "176                 Platinum is the best lot @ Borderlands\n",
       "38677    I have to stop riffing, kind of sad that I thr...\n",
       "Name: Tweet Text, dtype: object"
      ]
     },
     "execution_count": 16,
     "metadata": {},
     "output_type": "execute_result"
    }
   ],
   "source": [
    "# Text Preprocessing (Applying to 'Tweet Text')\n",
    "# Reason: It will clean and normalize the Tweet Text, making it suitable for text analysis and ML models.\n",
    "\n",
    "training_df['Tweet Text'].sample(30)"
   ]
  },
  {
   "cell_type": "code",
   "execution_count": 17,
   "id": "5b0556ed",
   "metadata": {
    "execution": {
     "iopub.execute_input": "2025-05-27T10:47:16.305740Z",
     "iopub.status.busy": "2025-05-27T10:47:16.305443Z",
     "iopub.status.idle": "2025-05-27T10:47:16.488514Z",
     "shell.execute_reply": "2025-05-27T10:47:16.487719Z"
    },
    "papermill": {
     "duration": 0.195182,
     "end_time": "2025-05-27T10:47:16.490295",
     "exception": false,
     "start_time": "2025-05-27T10:47:16.295113",
     "status": "completed"
    },
    "tags": []
   },
   "outputs": [
    {
     "data": {
      "text/plain": [
       "Tweet Text\n",
       "False    72836\n",
       "True      1846\n",
       "Name: count, dtype: int64"
      ]
     },
     "execution_count": 17,
     "metadata": {},
     "output_type": "execute_result"
    }
   ],
   "source": [
    "import re\n",
    "\n",
    "def contains_url(text):\n",
    "    pattern = re.compile(r'http[s]?://(?:[a-zA-Z]|[0-9]|[$-_@.&+]|[!*\\\\(\\\\),]|(?:%[0-9a-fA-F][0-9a-fA-F]))+|www\\.(?:[a-zA-Z]|[0-9]|[$-_@.&+]|[!*\\\\(\\\\),]|(?:%[0-9a-fA-F][0-9a-fA-F]))+|bit\\.ly/\\S+|t\\.co/\\S+')\n",
    "    return bool(pattern.search(str(text)))\n",
    "\n",
    "training_df['Tweet Text'].apply(contains_url).value_counts()"
   ]
  },
  {
   "cell_type": "code",
   "execution_count": 18,
   "id": "3fc5180f",
   "metadata": {
    "execution": {
     "iopub.execute_input": "2025-05-27T10:47:16.510517Z",
     "iopub.status.busy": "2025-05-27T10:47:16.510180Z",
     "iopub.status.idle": "2025-05-27T10:47:22.276847Z",
     "shell.execute_reply": "2025-05-27T10:47:22.276032Z"
    },
    "papermill": {
     "duration": 5.778605,
     "end_time": "2025-05-27T10:47:22.278638",
     "exception": false,
     "start_time": "2025-05-27T10:47:16.500033",
     "status": "completed"
    },
    "tags": []
   },
   "outputs": [
    {
     "data": {
      "text/plain": [
       "Tweet Text\n",
       "False    73773\n",
       "True       909\n",
       "Name: count, dtype: int64"
      ]
     },
     "execution_count": 18,
     "metadata": {},
     "output_type": "execute_result"
    }
   ],
   "source": [
    "import emoji\n",
    "\n",
    "def contains_emoji(text):\n",
    "    text = str(text)\n",
    "    return bool(emoji.emoji_count(text))\n",
    "\n",
    "training_df['Tweet Text'].apply(contains_emoji).value_counts()"
   ]
  },
  {
   "cell_type": "code",
   "execution_count": 19,
   "id": "cde7883b",
   "metadata": {
    "execution": {
     "iopub.execute_input": "2025-05-27T10:47:22.298194Z",
     "iopub.status.busy": "2025-05-27T10:47:22.297868Z",
     "iopub.status.idle": "2025-05-27T10:47:28.020806Z",
     "shell.execute_reply": "2025-05-27T10:47:28.019783Z"
    },
    "papermill": {
     "duration": 5.734558,
     "end_time": "2025-05-27T10:47:28.022443",
     "exception": false,
     "start_time": "2025-05-27T10:47:22.287885",
     "status": "completed"
    },
    "tags": []
   },
   "outputs": [
    {
     "data": {
      "text/plain": [
       "78     One of our own @ProfZeroo is live w/ @borderla...\n",
       "81     One of our own @ProfZeroo is live >/ @borderla...\n",
       "222    I'm in this @CBP video. @DHS_Wolf deceptively ...\n",
       "225    I'm in this @CBP video. Somebody deceptively c...\n",
       "576    Top 4 favourite games you say? 🤔. . Sea of Thi...\n",
       "Name: Tweet Text, dtype: object"
      ]
     },
     "execution_count": 19,
     "metadata": {},
     "output_type": "execute_result"
    }
   ],
   "source": [
    "training_df['has_emoji'] = training_df['Tweet Text'].apply(contains_emoji)\n",
    "training_df[training_df['has_emoji'] == True]['Tweet Text'].head()"
   ]
  },
  {
   "cell_type": "code",
   "execution_count": 20,
   "id": "56ce1147",
   "metadata": {
    "execution": {
     "iopub.execute_input": "2025-05-27T10:47:28.112376Z",
     "iopub.status.busy": "2025-05-27T10:47:28.111514Z",
     "iopub.status.idle": "2025-05-27T10:49:05.186715Z",
     "shell.execute_reply": "2025-05-27T10:49:05.185459Z"
    },
    "papermill": {
     "duration": 97.166794,
     "end_time": "2025-05-27T10:49:05.199268",
     "exception": false,
     "start_time": "2025-05-27T10:47:28.032474",
     "status": "completed"
    },
    "tags": []
   },
   "outputs": [
    {
     "name": "stderr",
     "output_type": "stream",
     "text": [
      "[nltk_data] Error loading stopwords: <urlopen error [Errno -3]\n",
      "[nltk_data]     Temporary failure in name resolution>\n",
      "[nltk_data] Error loading wordnet: <urlopen error [Errno -3] Temporary\n",
      "[nltk_data]     failure in name resolution>\n",
      "[nltk_data] Error loading punkt: <urlopen error [Errno -3] Temporary\n",
      "[nltk_data]     failure in name resolution>\n"
     ]
    }
   ],
   "source": [
    "import nltk\n",
    "nltk.download('stopwords')\n",
    "nltk.download('wordnet')\n",
    "nltk.download('punkt')\n",
    "\n",
    "from nltk.corpus import stopwords\n",
    "from nltk.stem import WordNetLemmatizer\n",
    "from nltk.tokenize import word_tokenize"
   ]
  },
  {
   "cell_type": "code",
   "execution_count": 21,
   "id": "ed00ad78",
   "metadata": {
    "execution": {
     "iopub.execute_input": "2025-05-27T10:49:05.221295Z",
     "iopub.status.busy": "2025-05-27T10:49:05.220209Z",
     "iopub.status.idle": "2025-05-27T10:49:05.231910Z",
     "shell.execute_reply": "2025-05-27T10:49:05.230882Z"
    },
    "papermill": {
     "duration": 0.024151,
     "end_time": "2025-05-27T10:49:05.233750",
     "exception": false,
     "start_time": "2025-05-27T10:49:05.209599",
     "status": "completed"
    },
    "tags": []
   },
   "outputs": [],
   "source": [
    "# initializing nltk tools\n",
    "\n",
    "lemmatizer = WordNetLemmatizer()\n",
    "stop_words = set(stopwords.words('english'))"
   ]
  },
  {
   "cell_type": "code",
   "execution_count": 22,
   "id": "78f9f6ed",
   "metadata": {
    "execution": {
     "iopub.execute_input": "2025-05-27T10:49:05.255141Z",
     "iopub.status.busy": "2025-05-27T10:49:05.254786Z",
     "iopub.status.idle": "2025-05-27T10:49:05.261977Z",
     "shell.execute_reply": "2025-05-27T10:49:05.260907Z"
    },
    "papermill": {
     "duration": 0.02002,
     "end_time": "2025-05-27T10:49:05.263954",
     "exception": false,
     "start_time": "2025-05-27T10:49:05.243934",
     "status": "completed"
    },
    "tags": []
   },
   "outputs": [],
   "source": [
    "def preprocess_tweets(text):\n",
    "    text = str(text)\n",
    "\n",
    "    # 1. Lowercasing\n",
    "    text = text.lower()\n",
    "\n",
    "    # 2. Remove URLs\n",
    "    text = re.sub(r'http\\S+|www\\S+|bit.ly/\\S+', '', text)\n",
    "\n",
    "    # 3. remove user mentions, @usernames\n",
    "    text = re.sub(r'@\\w+', '', text)\n",
    "\n",
    "    # 4. remove hashtag symbol\n",
    "    text = re.sub(r'#', '', text)\n",
    "\n",
    "    # 5. remove punctuation and special characters (keeping letters and spaces)\n",
    "    text = re.sub(r'[^a-z\\s]', '', text)\n",
    "\n",
    "    # 6. remove emojis\n",
    "    text = emoji.demojize(text)    # converts smiley face to :grinning_face_with_big_eyes:\n",
    "    text = re.sub(r':\\S+:', '', text)\n",
    "\n",
    "    # 7. remove numbers\n",
    "    text = re.sub(r'\\d+', '', text)\n",
    "\n",
    "    # 8. remove extra whitespace\n",
    "    text = re.sub(r'\\s+', '', text).strip()\n",
    "\n",
    "    # 9. Tokenization\n",
    "    tokens = word_tokenize(text)\n",
    "\n",
    "    # 10. remove stopwords and 11. lemmatization\n",
    "    cleaned_tokens = [lemmatizer.lemmatize(word) for word in tokens if word not in stop_words]\n",
    "\n",
    "    return ''.join(cleaned_tokens)"
   ]
  },
  {
   "cell_type": "code",
   "execution_count": 23,
   "id": "d7c8ab0c",
   "metadata": {
    "execution": {
     "iopub.execute_input": "2025-05-27T10:49:05.284748Z",
     "iopub.status.busy": "2025-05-27T10:49:05.283750Z",
     "iopub.status.idle": "2025-05-27T10:49:22.553380Z",
     "shell.execute_reply": "2025-05-27T10:49:22.552338Z"
    },
    "papermill": {
     "duration": 17.281832,
     "end_time": "2025-05-27T10:49:22.555169",
     "exception": false,
     "start_time": "2025-05-27T10:49:05.273337",
     "status": "completed"
    },
    "tags": []
   },
   "outputs": [
    {
     "data": {
      "text/html": [
       "<div>\n",
       "<style scoped>\n",
       "    .dataframe tbody tr th:only-of-type {\n",
       "        vertical-align: middle;\n",
       "    }\n",
       "\n",
       "    .dataframe tbody tr th {\n",
       "        vertical-align: top;\n",
       "    }\n",
       "\n",
       "    .dataframe thead th {\n",
       "        text-align: right;\n",
       "    }\n",
       "</style>\n",
       "<table border=\"1\" class=\"dataframe\">\n",
       "  <thead>\n",
       "    <tr style=\"text-align: right;\">\n",
       "      <th></th>\n",
       "      <th>Tweet Text</th>\n",
       "      <th>Cleaned Tweet Text</th>\n",
       "    </tr>\n",
       "  </thead>\n",
       "  <tbody>\n",
       "    <tr>\n",
       "      <th>62480</th>\n",
       "      <td>Epic store closed! hahahah GTA V killed it.</td>\n",
       "      <td>epicstoreclosedhahahahgtavkilledit</td>\n",
       "    </tr>\n",
       "    <tr>\n",
       "      <th>13723</th>\n",
       "      <td>@ NBA2K fix my shyt wtf is y'all doing.</td>\n",
       "      <td>nbakfixmyshytwtfisyalldoing</td>\n",
       "    </tr>\n",
       "    <tr>\n",
       "      <th>45081</th>\n",
       "      <td>An amazing night with Mario live @davematthews...</td>\n",
       "      <td>anamazingnightwithmarioliveverizonpayitforward...</td>\n",
       "    </tr>\n",
       "    <tr>\n",
       "      <th>1213</th>\n",
       "      <td>Stay tuned for next week's episode of \"Hello R...</td>\n",
       "      <td>staytunedfornextweeksepisodeofhelloredditmybos...</td>\n",
       "    </tr>\n",
       "    <tr>\n",
       "      <th>50042</th>\n",
       "      <td>How Cantona got a higher rating than in FIFA</td>\n",
       "      <td>howcantonagotahigherratingthaninfifa</td>\n",
       "    </tr>\n",
       "    <tr>\n",
       "      <th>71360</th>\n",
       "      <td>30 minutes until my latest video on PvP @ Ghos...</td>\n",
       "      <td>minutesuntilmylatestvideoonpvpghostreconalthou...</td>\n",
       "    </tr>\n",
       "    <tr>\n",
       "      <th>52109</th>\n",
       "      <td>Gonna be red dead redemption 2 cause orange mo...</td>\n",
       "      <td>gonnabereddeadredemptioncauseorangemorganmakes...</td>\n",
       "    </tr>\n",
       "    <tr>\n",
       "      <th>49127</th>\n",
       "      <td>Playing FIFA is the best than going to die in ...</td>\n",
       "      <td>playingfifaisthebestthangoingtodieinwaterass</td>\n",
       "    </tr>\n",
       "    <tr>\n",
       "      <th>50691</th>\n",
       "      <td>Play Pro Clubs on Console, Playstation vs PC? ...</td>\n",
       "      <td>playproclubsonconsoleplaystationvspcdownloadth...</td>\n",
       "    </tr>\n",
       "    <tr>\n",
       "      <th>48148</th>\n",
       "      <td>@HomeDepot. 5 This has been the WORST biggest ...</td>\n",
       "      <td>thishasbeentheworstbiggestexperienceweveeverre...</td>\n",
       "    </tr>\n",
       "  </tbody>\n",
       "</table>\n",
       "</div>"
      ],
      "text/plain": [
       "                                              Tweet Text  \\\n",
       "62480        Epic store closed! hahahah GTA V killed it.   \n",
       "13723            @ NBA2K fix my shyt wtf is y'all doing.   \n",
       "45081  An amazing night with Mario live @davematthews...   \n",
       "1213   Stay tuned for next week's episode of \"Hello R...   \n",
       "50042       How Cantona got a higher rating than in FIFA   \n",
       "71360  30 minutes until my latest video on PvP @ Ghos...   \n",
       "52109  Gonna be red dead redemption 2 cause orange mo...   \n",
       "49127  Playing FIFA is the best than going to die in ...   \n",
       "50691  Play Pro Clubs on Console, Playstation vs PC? ...   \n",
       "48148  @HomeDepot. 5 This has been the WORST biggest ...   \n",
       "\n",
       "                                      Cleaned Tweet Text  \n",
       "62480                 epicstoreclosedhahahahgtavkilledit  \n",
       "13723                        nbakfixmyshytwtfisyalldoing  \n",
       "45081  anamazingnightwithmarioliveverizonpayitforward...  \n",
       "1213   staytunedfornextweeksepisodeofhelloredditmybos...  \n",
       "50042               howcantonagotahigherratingthaninfifa  \n",
       "71360  minutesuntilmylatestvideoonpvpghostreconalthou...  \n",
       "52109  gonnabereddeadredemptioncauseorangemorganmakes...  \n",
       "49127       playingfifaisthebestthangoingtodieinwaterass  \n",
       "50691  playproclubsonconsoleplaystationvspcdownloadth...  \n",
       "48148  thishasbeentheworstbiggestexperienceweveeverre...  "
      ]
     },
     "execution_count": 23,
     "metadata": {},
     "output_type": "execute_result"
    }
   ],
   "source": [
    "training_df['Cleaned Tweet Text'] = training_df['Tweet Text'].apply(preprocess_tweets)\n",
    "validation_df['Cleaned Tweet Text'] = validation_df['Tweet Text'].apply(preprocess_tweets)\n",
    "\n",
    "training_df[['Tweet Text', 'Cleaned Tweet Text']].sample(10)"
   ]
  },
  {
   "cell_type": "code",
   "execution_count": 24,
   "id": "48e08f8c",
   "metadata": {
    "execution": {
     "iopub.execute_input": "2025-05-27T10:49:22.577402Z",
     "iopub.status.busy": "2025-05-27T10:49:22.576664Z",
     "iopub.status.idle": "2025-05-27T10:49:22.703226Z",
     "shell.execute_reply": "2025-05-27T10:49:22.702364Z"
    },
    "papermill": {
     "duration": 0.139665,
     "end_time": "2025-05-27T10:49:22.705158",
     "exception": false,
     "start_time": "2025-05-27T10:49:22.565493",
     "status": "completed"
    },
    "tags": []
   },
   "outputs": [
    {
     "name": "stdout",
     "output_type": "stream",
     "text": [
      "--- Sample with One-Hot Encoded Entities (Training) ---\n",
      "        Entity  Entity_Amazon  Entity_ApexLegends  Entity_AssassinsCreed  \\\n",
      "0  Borderlands            0.0                 0.0                    0.0   \n",
      "1  Borderlands            0.0                 0.0                    0.0   \n",
      "2  Borderlands            0.0                 0.0                    0.0   \n",
      "3  Borderlands            0.0                 0.0                    0.0   \n",
      "4  Borderlands            0.0                 0.0                    0.0   \n",
      "\n",
      "   Entity_Battlefield  Entity_Borderlands  \n",
      "0                 0.0                 1.0  \n",
      "1                 0.0                 1.0  \n",
      "2                 0.0                 1.0  \n",
      "3                 0.0                 1.0  \n",
      "4                 0.0                 1.0  \n",
      "\n",
      "Number of One-Hot Encoded Entity features: 32\n",
      "\n",
      "==================================================\n",
      "\n"
     ]
    }
   ],
   "source": [
    "from sklearn.preprocessing import OneHotEncoder\n",
    "\n",
    "# It's crucial to fit the encoder on the *training data only* to prevent data leakage.\n",
    "# Then transform both training and validation sets.\n",
    "\n",
    "# Convert 'Entity' to a DataFrame for OneHotEncoder\n",
    "train_entities = training_df[['Entity']]\n",
    "val_entities = validation_df[['Entity']]\n",
    "\n",
    "# Initialize OneHotEncoder\n",
    "encoder = OneHotEncoder(handle_unknown='ignore', sparse_output=False) # sparse_output=False to get dense array\n",
    "\n",
    "# Fit encoder on training entities and transform both training and validation\n",
    "encoder.fit(train_entities)\n",
    "\n",
    "encoded_train_entities = encoder.transform(train_entities)\n",
    "encoded_val_entities = encoder.transform(val_entities)\n",
    "\n",
    "# Create new DataFrames from the encoded entities\n",
    "# Get feature names for new columns\n",
    "entity_feature_names = encoder.get_feature_names_out(['Entity'])\n",
    "\n",
    "train_entity_df = pd.DataFrame(encoded_train_entities, columns=entity_feature_names, index=training_df.index)\n",
    "val_entity_df = pd.DataFrame(encoded_val_entities, columns=entity_feature_names, index=validation_df.index)\n",
    "\n",
    "# Concatenate the one-hot encoded entity features back to the main DataFrames\n",
    "training_df = pd.concat([training_df, train_entity_df], axis=1)\n",
    "validation_df = pd.concat([validation_df, val_entity_df], axis=1)\n",
    "\n",
    "print(\"--- Sample with One-Hot Encoded Entities (Training) ---\")\n",
    "# Show original Entity column and some of the new one-hot encoded columns\n",
    "print(training_df[['Entity'] + list(entity_feature_names[:5])].head()) # Display first 5 new entity columns\n",
    "print(f\"\\nNumber of One-Hot Encoded Entity features: {len(entity_feature_names)}\")\n",
    "print(\"\\n\" + \"=\"*50 + \"\\n\")"
   ]
  },
  {
   "cell_type": "code",
   "execution_count": 25,
   "id": "2afc6c49",
   "metadata": {
    "execution": {
     "iopub.execute_input": "2025-05-27T10:49:22.732441Z",
     "iopub.status.busy": "2025-05-27T10:49:22.732055Z",
     "iopub.status.idle": "2025-05-27T10:49:22.771076Z",
     "shell.execute_reply": "2025-05-27T10:49:22.769998Z"
    },
    "papermill": {
     "duration": 0.052347,
     "end_time": "2025-05-27T10:49:22.772946",
     "exception": false,
     "start_time": "2025-05-27T10:49:22.720599",
     "status": "completed"
    },
    "tags": []
   },
   "outputs": [
    {
     "name": "stdout",
     "output_type": "stream",
     "text": [
      "--- Sample with Combined Text (Training) ---\n",
      "        Entity                            Cleaned Tweet Text  \\\n",
      "0  Borderlands    imgettingonborderlandsandiwillmurderyouall   \n",
      "1  Borderlands       iamcomingtothebordersandiwillkillyouall   \n",
      "2  Borderlands      imgettingonborderlandsandiwillkillyouall   \n",
      "3  Borderlands     imcomingonborderlandsandiwillmurderyouall   \n",
      "4  Borderlands  imgettingonborderlandsandiwillmurderyoumeall   \n",
      "\n",
      "                                       Combined Text  \n",
      "0  Borderlands imgettingonborderlandsandiwillmurd...  \n",
      "1  Borderlands iamcomingtothebordersandiwillkilly...  \n",
      "2  Borderlands imgettingonborderlandsandiwillkill...  \n",
      "3  Borderlands imcomingonborderlandsandiwillmurde...  \n",
      "4  Borderlands imgettingonborderlandsandiwillmurd...  \n",
      "\n",
      "==================================================\n",
      "\n"
     ]
    }
   ],
   "source": [
    "# Feature Engineering\n",
    "# Combine Text and Entity\n",
    "# Concatenating the entity name with the cleaned tweet text creates a unified text field that explicitly links the entity to the sentiment. This can be very powerful for models that process a single text input.\n",
    "\n",
    "# Concatenate 'Entity' with 'Cleaned Tweet Text'\n",
    "training_df['Combined Text'] = training_df['Entity'].astype(str) + \" \" + training_df['Cleaned Tweet Text']\n",
    "validation_df['Combined Text'] = validation_df['Entity'].astype(str) + \" \" + validation_df['Cleaned Tweet Text']\n",
    "\n",
    "print(\"--- Sample with Combined Text (Training) ---\")\n",
    "print(training_df[['Entity', 'Cleaned Tweet Text', 'Combined Text']].head())\n",
    "print(\"\\n\" + \"=\"*50 + \"\\n\")"
   ]
  },
  {
   "cell_type": "markdown",
   "id": "9d465260",
   "metadata": {
    "papermill": {
     "duration": 0.009624,
     "end_time": "2025-05-27T10:49:22.792806",
     "exception": false,
     "start_time": "2025-05-27T10:49:22.783182",
     "status": "completed"
    },
    "tags": []
   },
   "source": [
    "# VISUALIZATIONS"
   ]
  },
  {
   "cell_type": "code",
   "execution_count": 26,
   "id": "6bc74598",
   "metadata": {
    "execution": {
     "iopub.execute_input": "2025-05-27T10:49:22.814062Z",
     "iopub.status.busy": "2025-05-27T10:49:22.813730Z",
     "iopub.status.idle": "2025-05-27T10:49:23.245340Z",
     "shell.execute_reply": "2025-05-27T10:49:23.244283Z"
    },
    "papermill": {
     "duration": 0.444423,
     "end_time": "2025-05-27T10:49:23.247258",
     "exception": false,
     "start_time": "2025-05-27T10:49:22.802835",
     "status": "completed"
    },
    "tags": []
   },
   "outputs": [
    {
     "data": {
      "image/png": "[encoded data removed]",
      "text/plain": [
       "<Figure size 1600x600 with 2 Axes>"
      ]
     },
     "metadata": {},
     "output_type": "display_data"
    }
   ],
   "source": [
    "# 1. Sentiment Distribution (Training vs. Validation)\n",
    "fig, axes = plt.subplots(1, 2, figsize=(16, 6))\n",
    "\n",
    "sns.countplot(data=training_df, x='Sentiment', palette='viridis', ax=axes[0], order=training_df['Sentiment'].value_counts().index)\n",
    "axes[0].set_title('Sentiment Distribution (Training Data)')\n",
    "axes[0].set_xlabel('Sentiment')\n",
    "axes[0].set_ylabel('Number of Tweets')\n",
    "for container in axes[0].containers:\n",
    "    axes[0].bar_label(container)\n",
    "\n",
    "sns.countplot(data=validation_df, x='Sentiment', palette='viridis', ax=axes[1], order=validation_df['Sentiment'].value_counts().index)\n",
    "axes[1].set_title('Sentiment Distribution (Validation Data)')\n",
    "axes[1].set_xlabel('Sentiment')\n",
    "axes[1].set_ylabel('Number of Tweets')\n",
    "for container in axes[1].containers:\n",
    "    axes[1].bar_label(container)\n",
    "\n",
    "plt.tight_layout()\n",
    "plt.show()"
   ]
  },
  {
   "cell_type": "markdown",
   "id": "08f235df",
   "metadata": {
    "papermill": {
     "duration": 0.010955,
     "end_time": "2025-05-27T10:49:23.269692",
     "exception": false,
     "start_time": "2025-05-27T10:49:23.258737",
     "status": "completed"
    },
    "tags": []
   },
   "source": [
    "**Observations: Sentiments are relatively balanced in both sets after mapping 'Irrelevant' to 'Neutral'.**\n",
    "\n"
   ]
  },
  {
   "cell_type": "code",
   "execution_count": 27,
   "id": "ecca8ba2",
   "metadata": {
    "execution": {
     "iopub.execute_input": "2025-05-27T10:49:23.294829Z",
     "iopub.status.busy": "2025-05-27T10:49:23.294490Z",
     "iopub.status.idle": "2025-05-27T10:49:23.875062Z",
     "shell.execute_reply": "2025-05-27T10:49:23.873972Z"
    },
    "papermill": {
     "duration": 0.595835,
     "end_time": "2025-05-27T10:49:23.877283",
     "exception": false,
     "start_time": "2025-05-27T10:49:23.281448",
     "status": "completed"
    },
    "tags": []
   },
   "outputs": [
    {
     "data": {
      "image/png": "[encoded data removed]",
      "text/plain": [
       "<Figure size 1500x800 with 1 Axes>"
      ]
     },
     "metadata": {},
     "output_type": "display_data"
    },
    {
     "data": {
      "image/png": "[encoded data removed]",
      "text/plain": [
       "<Figure size 1200x700 with 1 Axes>"
      ]
     },
     "metadata": {},
     "output_type": "display_data"
    }
   ],
   "source": [
    "# 2. Top N Entities (Training vs. Validation)\n",
    "plt.figure(figsize=(15, 8))\n",
    "sns.barplot(x=training_df['Entity'].value_counts().head(15).values,\n",
    "            y=training_df['Entity'].value_counts().head(15).index,\n",
    "            palette='crest')\n",
    "plt.title('Top 15 Most Frequent Entities (Training Data)')\n",
    "plt.xlabel('Number of Tweets')\n",
    "plt.ylabel('Entity')\n",
    "plt.show()\n",
    "\n",
    "plt.figure(figsize=(12, 7))\n",
    "sns.barplot(x=validation_df['Entity'].value_counts().head(15).values,\n",
    "            y=validation_df['Entity'].value_counts().head(15).index,\n",
    "            palette='crest')\n",
    "plt.title('Top 15 Most Frequent Entities (Validation Data)')\n",
    "plt.xlabel('Number of Tweets')\n",
    "plt.ylabel('Entity')\n",
    "plt.show()"
   ]
  },
  {
   "cell_type": "markdown",
   "id": "f37e9200",
   "metadata": {
    "papermill": {
     "duration": 0.01562,
     "end_time": "2025-05-27T10:49:23.907390",
     "exception": false,
     "start_time": "2025-05-27T10:49:23.891770",
     "status": "completed"
    },
    "tags": []
   },
   "source": [
    "**Observations: Reveals the most discussed brands/topics. Many are gaming-related.**"
   ]
  },
  {
   "cell_type": "code",
   "execution_count": 28,
   "id": "a2088f6c",
   "metadata": {
    "execution": {
     "iopub.execute_input": "2025-05-27T10:49:23.939059Z",
     "iopub.status.busy": "2025-05-27T10:49:23.938753Z",
     "iopub.status.idle": "2025-05-27T10:49:24.606624Z",
     "shell.execute_reply": "2025-05-27T10:49:24.605392Z"
    },
    "papermill": {
     "duration": 0.686088,
     "end_time": "2025-05-27T10:49:24.608958",
     "exception": false,
     "start_time": "2025-05-27T10:49:23.922870",
     "status": "completed"
    },
    "tags": []
   },
   "outputs": [
    {
     "data": {
      "image/png": "[encoded data removed]",
      "text/plain": [
       "<Figure size 1800x900 with 1 Axes>"
      ]
     },
     "metadata": {},
     "output_type": "display_data"
    }
   ],
   "source": [
    "# 3. Sentiment Distribution per Entity (for top N entities in training)\n",
    "top_n_entities = training_df['Entity'].value_counts().head(10).index.tolist()\n",
    "filtered_df = training_df[training_df['Entity'].isin(top_n_entities)]\n",
    "\n",
    "plt.figure(figsize=(18, 9))\n",
    "sns.countplot(data=filtered_df, x='Entity', hue='Sentiment', palette='coolwarm')\n",
    "plt.title('Sentiment Distribution Across Top 10 Entities (Training Data)')\n",
    "plt.xlabel('Entity')\n",
    "plt.ylabel('Number of Tweets')\n",
    "plt.xticks(rotation=45, ha='right')\n",
    "plt.legend(title='Sentiment')\n",
    "plt.tight_layout()\n",
    "plt.show()"
   ]
  },
  {
   "cell_type": "markdown",
   "id": "55af5350",
   "metadata": {
    "papermill": {
     "duration": 0.015897,
     "end_time": "2025-05-27T10:49:24.641088",
     "exception": false,
     "start_time": "2025-05-27T10:49:24.625191",
     "status": "completed"
    },
    "tags": []
   },
   "source": [
    "**Observations: Shows how sentiment varies for popular entities. Some entities might lean more negative (e.g., game issues) while others might be more positive (e.g., product launch excitement).**"
   ]
  },
  {
   "cell_type": "markdown",
   "id": "b67b5501",
   "metadata": {
    "papermill": {
     "duration": 0.015722,
     "end_time": "2025-05-27T10:49:24.672977",
     "exception": false,
     "start_time": "2025-05-27T10:49:24.657255",
     "status": "completed"
    },
    "tags": []
   },
   "source": [
    "# Modeling"
   ]
  },
  {
   "cell_type": "code",
   "execution_count": 29,
   "id": "a304ccc3",
   "metadata": {
    "execution": {
     "iopub.execute_input": "2025-05-27T10:49:24.706373Z",
     "iopub.status.busy": "2025-05-27T10:49:24.706039Z",
     "iopub.status.idle": "2025-05-27T10:49:24.711203Z",
     "shell.execute_reply": "2025-05-27T10:49:24.710403Z"
    },
    "papermill": {
     "duration": 0.023919,
     "end_time": "2025-05-27T10:49:24.712776",
     "exception": false,
     "start_time": "2025-05-27T10:49:24.688857",
     "status": "completed"
    },
    "tags": []
   },
   "outputs": [],
   "source": [
    "# Scikit-learn for text vectorization and traditional ML models\n",
    "from sklearn.feature_extraction.text import TfidfVectorizer\n",
    "from sklearn.linear_model import LogisticRegression\n",
    "from sklearn.svm import SVC\n",
    "from sklearn.metrics import accuracy_score, classification_report\n"
   ]
  },
  {
   "cell_type": "code",
   "execution_count": 30,
   "id": "ead07796",
   "metadata": {
    "execution": {
     "iopub.execute_input": "2025-05-27T10:49:24.746947Z",
     "iopub.status.busy": "2025-05-27T10:49:24.746645Z",
     "iopub.status.idle": "2025-05-27T10:49:24.761602Z",
     "shell.execute_reply": "2025-05-27T10:49:24.760666Z"
    },
    "papermill": {
     "duration": 0.03381,
     "end_time": "2025-05-27T10:49:24.763110",
     "exception": false,
     "start_time": "2025-05-27T10:49:24.729300",
     "status": "completed"
    },
    "tags": []
   },
   "outputs": [],
   "source": [
    "# Preparing Labels (Target Variable)\n",
    "# Map sentiment strings to numerical labels\n",
    "\n",
    "sentiment_mapping = {'Positive': 0, 'Negative': 1, 'Neutral': 2}    # assigning integer labels\n",
    "training_df['Sentiment_Encoded'] = training_df['Sentiment'].map(sentiment_mapping)\n",
    "validation_df['Sentiment_Encoded'] = validation_df['Sentiment'].map(sentiment_mapping)\n",
    "\n",
    "X_train_text = training_df['Combined Text']\n",
    "y_train = training_df['Sentiment_Encoded']\n",
    "\n",
    "X_val_text = validation_df['Combined Text']\n",
    "y_val = validation_df['Sentiment_Encoded']\n",
    "\n",
    "num_classes = len(sentiment_mapping)"
   ]
  },
  {
   "cell_type": "code",
   "execution_count": 31,
   "id": "335c0179",
   "metadata": {
    "execution": {
     "iopub.execute_input": "2025-05-27T10:49:24.796110Z",
     "iopub.status.busy": "2025-05-27T10:49:24.795805Z",
     "iopub.status.idle": "2025-05-27T10:49:24.801494Z",
     "shell.execute_reply": "2025-05-27T10:49:24.800383Z"
    },
    "papermill": {
     "duration": 0.023802,
     "end_time": "2025-05-27T10:49:24.802974",
     "exception": false,
     "start_time": "2025-05-27T10:49:24.779172",
     "status": "completed"
    },
    "tags": []
   },
   "outputs": [
    {
     "name": "stdout",
     "output_type": "stream",
     "text": [
      "Data preparation for modeling  complete.\n",
      "\n",
      "Number of classes: 3\n",
      "Training data shape: (74682,), (74682,)\n",
      "Validation data shape: (1000,), (1000,)\n"
     ]
    }
   ],
   "source": [
    "print(\"Data preparation for modeling  complete.\\n\")\n",
    "print(f\"Number of classes: {num_classes}\")\n",
    "print(f\"Training data shape: {X_train_text.shape}, {y_train.shape}\")\n",
    "print(f\"Validation data shape: {X_val_text.shape}, {y_val.shape}\")"
   ]
  },
  {
   "cell_type": "markdown",
   "id": "b792f11d",
   "metadata": {
    "papermill": {
     "duration": 0.015981,
     "end_time": "2025-05-27T10:49:24.835749",
     "exception": false,
     "start_time": "2025-05-27T10:49:24.819768",
     "status": "completed"
    },
    "tags": []
   },
   "source": [
    "### 1. TF-IDF with Support Vector Machine (SVM)"
   ]
  },
  {
   "cell_type": "code",
   "execution_count": 32,
   "id": "ad2a0b4d",
   "metadata": {
    "execution": {
     "iopub.execute_input": "2025-05-27T10:49:24.870068Z",
     "iopub.status.busy": "2025-05-27T10:49:24.869747Z",
     "iopub.status.idle": "2025-05-27T10:49:25.739247Z",
     "shell.execute_reply": "2025-05-27T10:49:25.738080Z"
    },
    "papermill": {
     "duration": 0.888516,
     "end_time": "2025-05-27T10:49:25.741027",
     "exception": false,
     "start_time": "2025-05-27T10:49:24.852511",
     "status": "completed"
    },
    "tags": []
   },
   "outputs": [
    {
     "name": "stdout",
     "output_type": "stream",
     "text": [
      "TF-IDF features shape (Training): (74682, 10000)\n",
      "TF-IDF features shape (Validation): (1000, 10000)\n"
     ]
    }
   ],
   "source": [
    "# Initialize TF-IDF vectorizer\n",
    "# max_features: limit the number of features (vocabulary size)\n",
    "# ngram_range: consider single words (1, 1) or pairs of words (1, 2) or more\n",
    "\n",
    "tfidf_vectorizer = TfidfVectorizer(max_features=10000, ngram_range=(1, 2))\n",
    "\n",
    "\n",
    "# fit TF-IDF on training data and transform both training and validation data\n",
    "X_train_tfidf = tfidf_vectorizer.fit_transform(X_train_text)\n",
    "X_val_tfidf = tfidf_vectorizer.transform(X_val_text)\n",
    "\n",
    "print(f\"TF-IDF features shape (Training): {X_train_tfidf.shape}\")\n",
    "print(f\"TF-IDF features shape (Validation): {X_val_tfidf.shape}\")"
   ]
  },
  {
   "cell_type": "code",
   "execution_count": 33,
   "id": "d37b513e",
   "metadata": {
    "execution": {
     "iopub.execute_input": "2025-05-27T10:49:25.775342Z",
     "iopub.status.busy": "2025-05-27T10:49:25.775024Z",
     "iopub.status.idle": "2025-05-27T10:49:26.470425Z",
     "shell.execute_reply": "2025-05-27T10:49:26.469422Z"
    },
    "papermill": {
     "duration": 0.714327,
     "end_time": "2025-05-27T10:49:26.472239",
     "exception": false,
     "start_time": "2025-05-27T10:49:25.757912",
     "status": "completed"
    },
    "tags": []
   },
   "outputs": [
    {
     "name": "stdout",
     "output_type": "stream",
     "text": [
      "\n",
      "Logistic Regression Accuracy:  0.6090\n",
      "\n",
      "Classification Report (Logistic Regression):\n",
      "               precision    recall  f1-score   support\n",
      "\n",
      "    Positive       0.74      0.40      0.52       277\n",
      "    Negative       0.58      0.47      0.52       266\n",
      "     Neutral       0.59      0.82      0.68       457\n",
      "\n",
      "    accuracy                           0.61      1000\n",
      "   macro avg       0.64      0.56      0.57      1000\n",
      "weighted avg       0.63      0.61      0.59      1000\n",
      "\n"
     ]
    }
   ],
   "source": [
    "# Initialize and train Logistic Regression Model\n",
    "\n",
    "log_reg_model = LogisticRegression(max_iter=1000, solver='liblinear', random_state=42) # liblinear is good for small datasets and L1/L2 regularization\n",
    "log_reg_model.fit(X_train_tfidf, y_train)\n",
    "\n",
    "# predicting on validation set\n",
    "y_pred_log_reg = log_reg_model.predict(X_val_tfidf)\n",
    "\n",
    "# Evaluating Logistic Regression\n",
    "accuracy_log_reg = accuracy_score(y_val, y_pred_log_reg)\n",
    "print(f\"\\nLogistic Regression Accuracy: {accuracy_log_reg: .4f}\")\n",
    "print(f\"\\nClassification Report (Logistic Regression):\\n\", classification_report(y_val, y_pred_log_reg, target_names=sentiment_mapping.keys()))"
   ]
  },
  {
   "cell_type": "code",
   "execution_count": 34,
   "id": "888c3d68",
   "metadata": {
    "execution": {
     "iopub.execute_input": "2025-05-27T10:49:26.528993Z",
     "iopub.status.busy": "2025-05-27T10:49:26.528638Z",
     "iopub.status.idle": "2025-05-27T10:51:33.171803Z",
     "shell.execute_reply": "2025-05-27T10:51:33.170753Z"
    },
    "papermill": {
     "duration": 126.68886,
     "end_time": "2025-05-27T10:51:33.190024",
     "exception": false,
     "start_time": "2025-05-27T10:49:26.501164",
     "status": "completed"
    },
    "tags": []
   },
   "outputs": [
    {
     "name": "stdout",
     "output_type": "stream",
     "text": [
      "\n",
      "SVM Accuracy:  0.6100\n",
      "\n",
      "Classification Report (SVM):\n",
      "               precision    recall  f1-score   support\n",
      "\n",
      "    Positive       0.74      0.40      0.52       277\n",
      "    Negative       0.58      0.47      0.52       266\n",
      "     Neutral       0.59      0.82      0.69       457\n",
      "\n",
      "    accuracy                           0.61      1000\n",
      "   macro avg       0.64      0.56      0.57      1000\n",
      "weighted avg       0.63      0.61      0.60      1000\n",
      "\n"
     ]
    }
   ],
   "source": [
    "# TF-IDF with Support Vector Machine (SVM)\n",
    "\n",
    "# Initializing and training SVM model\n",
    "# SVC with 'linear' kernel is often good for text classification\n",
    "# C: regularization parameter (smaller values -> stronger regularization)\n",
    "\n",
    "svm_model = SVC(kernel='linear', C=1.0, random_state=42)\n",
    "svm_model.fit(X_train_tfidf, y_train)\n",
    "\n",
    "y_pred_svm = svm_model.predict(X_val_tfidf)\n",
    "\n",
    "accuracy_svm = accuracy_score(y_val, y_pred_svm)\n",
    "print(f\"\\nSVM Accuracy: {accuracy_svm: .4f}\")\n",
    "print(f\"\\nClassification Report (SVM):\\n\", classification_report(y_val, y_pred_svm, target_names=sentiment_mapping.keys()))"
   ]
  },
  {
   "cell_type": "code",
   "execution_count": 35,
   "id": "0361d21d",
   "metadata": {
    "execution": {
     "iopub.execute_input": "2025-05-27T10:51:33.224963Z",
     "iopub.status.busy": "2025-05-27T10:51:33.224617Z",
     "iopub.status.idle": "2025-05-27T10:51:33.230217Z",
     "shell.execute_reply": "2025-05-27T10:51:33.229163Z"
    },
    "papermill": {
     "duration": 0.024558,
     "end_time": "2025-05-27T10:51:33.231585",
     "exception": false,
     "start_time": "2025-05-27T10:51:33.207027",
     "status": "completed"
    },
    "tags": []
   },
   "outputs": [
    {
     "name": "stdout",
     "output_type": "stream",
     "text": [
      "------------ Model Performance Summary ------------\n",
      "Logistic Regression (TF-IDF): Accuracy =  0.6090\n",
      "SVM (TF-IDF)                : Accuracy =  0.6100\n",
      "\n",
      "Note: Accuracy is the 'Top 1 Classification Accuracy' as per problem statement\n"
     ]
    }
   ],
   "source": [
    "print(\"------------ Model Performance Summary ------------\")\n",
    "print(f\"Logistic Regression (TF-IDF): Accuracy = {accuracy_log_reg: .4f}\")\n",
    "print(f\"SVM (TF-IDF)                : Accuracy = {accuracy_svm: .4f}\")\n",
    "\n",
    "print(\"\\nNote: Accuracy is the 'Top 1 Classification Accuracy' as per problem statement\")"
   ]
  },
  {
   "cell_type": "code",
   "execution_count": null,
   "id": "aea32291",
   "metadata": {
    "papermill": {
     "duration": 0.016058,
     "end_time": "2025-05-27T10:51:33.264448",
     "exception": false,
     "start_time": "2025-05-27T10:51:33.248390",
     "status": "completed"
    },
    "tags": []
   },
   "outputs": [],
   "source": []
  }
 ],
 "metadata": {
  "kaggle": {
   "accelerator": "none",
   "dataSources": [
    {
     "datasetId": 1520310,
     "sourceId": 2510329,
     "sourceType": "datasetVersion"
    }
   ],
   "dockerImageVersionId": 31040,
   "isGpuEnabled": false,
   "isInternetEnabled": false,
   "language": "python",
   "sourceType": "notebook"
  },
  "kernelspec": {
   "display_name": "Python 3",
   "language": "python",
   "name": "python3"
  },
  "language_info": {
   "codemirror_mode": {
    "name": "ipython",
    "version": 3
   },
   "file_extension": ".py",
   "mimetype": "text/x-python",
   "name": "python",
   "nbconvert_exporter": "python",
   "pygments_lexer": "ipython3",
   "version": "3.11.11"
  },
  "papermill": {
   "default_parameters": {},
   "duration": 268.989251,
   "end_time": "2025-05-27T10:51:34.603909",
   "environment_variables": {},
   "exception": null,
   "input_path": "__notebook__.ipynb",
   "output_path": "__notebook__.ipynb",
   "parameters": {},
   "start_time": "2025-05-27T10:47:05.614658",
   "version": "2.6.0"
  }
 },
 "nbformat": 4,
 "nbformat_minor": 5
}
